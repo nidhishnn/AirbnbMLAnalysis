{
  "cells": [
    {
      "cell_type": "code",
      "execution_count": null,
      "id": "ebfaa2f3",
      "metadata": {
        "scrolled": true,
        "id": "ebfaa2f3"
      },
      "outputs": [],
      "source": [
        "import pandas as pd\n",
        "import numpy as np\n",
        "import matplotlib.pyplot as plt\n",
        "import seaborn as sns\n",
        "from collections import Counter\n",
        "import re\n",
        "from datetime import datetime\n",
        "from sklearn.preprocessing import StandardScaler\n",
        "from sklearn.experimental import enable_iterative_imputer\n",
        "from sklearn.impute import IterativeImputer\n",
        "import xgboost as xgb\n",
        "from sklearn.metrics import accuracy_score, precision_score, recall_score, classification_report, roc_auc_score\n",
        "from sklearn.preprocessing import label_binarize"
      ]
    },
    {
      "cell_type": "markdown",
      "id": "98de42d0",
      "metadata": {
        "id": "98de42d0"
      },
      "source": [
        "# Preprocessing Data"
      ]
    },
    {
      "cell_type": "code",
      "execution_count": null,
      "id": "e1c493ec",
      "metadata": {
        "scrolled": false,
        "id": "e1c493ec",
        "outputId": "3ad404a0-8e92-4d97-feb6-7a887af91cbb",
        "colab": {
          "base_uri": "https://localhost:8080/"
        }
      },
      "outputs": [
        {
          "output_type": "stream",
          "name": "stdout",
          "text": [
            "Drive already mounted at /content/drive; to attempt to forcibly remount, call drive.mount(\"/content/drive\", force_remount=True).\n",
            "<class 'pandas.core.frame.DataFrame'>\n",
            "Index: 24688 entries, 0 to 53061\n",
            "Data columns (total 29 columns):\n",
            " #   Column                  Non-Null Count  Dtype  \n",
            "---  ------                  --------------  -----  \n",
            " 0   id                      24688 non-null  int64  \n",
            " 1   log_price               24688 non-null  float64\n",
            " 2   property_type           24688 non-null  object \n",
            " 3   room_type               24688 non-null  object \n",
            " 4   amenities               24688 non-null  object \n",
            " 5   accommodates            24688 non-null  int64  \n",
            " 6   bathrooms               24622 non-null  float64\n",
            " 7   bed_type                24688 non-null  object \n",
            " 8   cancellation_policy     24688 non-null  object \n",
            " 9   cleaning_fee            24688 non-null  bool   \n",
            " 10  city                    24688 non-null  object \n",
            " 11  description             24688 non-null  object \n",
            " 12  first_review            19218 non-null  object \n",
            " 13  host_has_profile_pic    24560 non-null  object \n",
            " 14  host_identity_verified  24560 non-null  object \n",
            " 15  host_response_rate      16115 non-null  object \n",
            " 16  host_since              24560 non-null  object \n",
            " 17  instant_bookable        24688 non-null  bool   \n",
            " 18  last_review             19236 non-null  object \n",
            " 19  latitude                24688 non-null  float64\n",
            " 20  longitude               24688 non-null  float64\n",
            " 21  name                    24688 non-null  object \n",
            " 22  neighbourhood           24684 non-null  object \n",
            " 23  number_of_reviews       24688 non-null  int64  \n",
            " 24  review_scores_rating    18831 non-null  float64\n",
            " 25  thumbnail_url           24688 non-null  object \n",
            " 26  zipcode                 24339 non-null  object \n",
            " 27  bedrooms                24651 non-null  float64\n",
            " 28  beds                    24639 non-null  float64\n",
            "dtypes: bool(2), float64(7), int64(3), object(17)\n",
            "memory usage: 5.3+ MB\n"
          ]
        }
      ],
      "source": [
        "from google.colab import drive\n",
        "drive.mount('/content/drive')\n",
        "\n",
        "#Read in dataframe and view first few rows\n",
        "path = '/content/drive/MyDrive/MLProject/data/Airbnb_Data_Images.csv'\n",
        "df = pd.read_csv(path)\n",
        "df.head()\n",
        "\n",
        "#Retain only NYC listings\n",
        "df_nyc = df[df['city'] == 'NYC']\n",
        "df_nyc.info()"
      ]
    },
    {
      "cell_type": "code",
      "source": [
        "df_nyc[['log_price', 'property_type', 'accommodates', 'review_scores_rating', 'bedrooms', 'amenities']]"
      ],
      "metadata": {
        "colab": {
          "base_uri": "https://localhost:8080/",
          "height": 652
        },
        "id": "1-R9G1x6LNLs",
        "outputId": "90a10ff7-2774-42be-8945-302c665b02e7"
      },
      "id": "1-R9G1x6LNLs",
      "execution_count": null,
      "outputs": [
        {
          "output_type": "execute_result",
          "data": {
            "text/plain": [
              "       log_price property_type  accommodates  review_scores_rating  bedrooms  \\\n",
              "0       5.010635     Apartment             3                 100.0       1.0   \n",
              "1       5.129899     Apartment             7                  93.0       3.0   \n",
              "8       4.605170     Apartment             2                  93.0       1.0   \n",
              "13      3.688879         House             2                  89.0       1.0   \n",
              "16      5.003946     Apartment             6                 100.0       3.0   \n",
              "...          ...           ...           ...                   ...       ...   \n",
              "53051   3.688879     Apartment             2                  86.0       1.0   \n",
              "53052   3.912023     Apartment             2                  60.0       1.0   \n",
              "53053   4.700480     Apartment             2                  92.0       1.0   \n",
              "53060   4.605170     Apartment             1                   NaN       1.0   \n",
              "53061   5.220356     Apartment             5                  94.0       2.0   \n",
              "\n",
              "                                               amenities  \n",
              "0      {\"Wireless Internet\",\"Air conditioning\",Kitche...  \n",
              "1      {\"Wireless Internet\",\"Air conditioning\",Kitche...  \n",
              "8      {Internet,\"Wireless Internet\",\"Air conditionin...  \n",
              "13     {Internet,\"Air conditioning\",Kitchen,\"Smoking ...  \n",
              "16     {TV,\"Cable TV\",Internet,\"Wireless Internet\",\"A...  \n",
              "...                                                  ...  \n",
              "53051  {TV,Internet,\"Wireless Internet\",\"Air conditio...  \n",
              "53052  {TV,\"Cable TV\",Internet,\"Wireless Internet\",\"A...  \n",
              "53053  {Internet,\"Wireless Internet\",\"Air conditionin...  \n",
              "53060                                                 {}  \n",
              "53061  {TV,Internet,\"Wireless Internet\",\"Air conditio...  \n",
              "\n",
              "[24688 rows x 6 columns]"
            ],
            "text/html": [
              "\n",
              "  <div id=\"df-e06e7dfd-ba8f-4b97-a0eb-2f146b69ffae\" class=\"colab-df-container\">\n",
              "    <div>\n",
              "<style scoped>\n",
              "    .dataframe tbody tr th:only-of-type {\n",
              "        vertical-align: middle;\n",
              "    }\n",
              "\n",
              "    .dataframe tbody tr th {\n",
              "        vertical-align: top;\n",
              "    }\n",
              "\n",
              "    .dataframe thead th {\n",
              "        text-align: right;\n",
              "    }\n",
              "</style>\n",
              "<table border=\"1\" class=\"dataframe\">\n",
              "  <thead>\n",
              "    <tr style=\"text-align: right;\">\n",
              "      <th></th>\n",
              "      <th>log_price</th>\n",
              "      <th>property_type</th>\n",
              "      <th>accommodates</th>\n",
              "      <th>review_scores_rating</th>\n",
              "      <th>bedrooms</th>\n",
              "      <th>amenities</th>\n",
              "    </tr>\n",
              "  </thead>\n",
              "  <tbody>\n",
              "    <tr>\n",
              "      <th>0</th>\n",
              "      <td>5.010635</td>\n",
              "      <td>Apartment</td>\n",
              "      <td>3</td>\n",
              "      <td>100.0</td>\n",
              "      <td>1.0</td>\n",
              "      <td>{\"Wireless Internet\",\"Air conditioning\",Kitche...</td>\n",
              "    </tr>\n",
              "    <tr>\n",
              "      <th>1</th>\n",
              "      <td>5.129899</td>\n",
              "      <td>Apartment</td>\n",
              "      <td>7</td>\n",
              "      <td>93.0</td>\n",
              "      <td>3.0</td>\n",
              "      <td>{\"Wireless Internet\",\"Air conditioning\",Kitche...</td>\n",
              "    </tr>\n",
              "    <tr>\n",
              "      <th>8</th>\n",
              "      <td>4.605170</td>\n",
              "      <td>Apartment</td>\n",
              "      <td>2</td>\n",
              "      <td>93.0</td>\n",
              "      <td>1.0</td>\n",
              "      <td>{Internet,\"Wireless Internet\",\"Air conditionin...</td>\n",
              "    </tr>\n",
              "    <tr>\n",
              "      <th>13</th>\n",
              "      <td>3.688879</td>\n",
              "      <td>House</td>\n",
              "      <td>2</td>\n",
              "      <td>89.0</td>\n",
              "      <td>1.0</td>\n",
              "      <td>{Internet,\"Air conditioning\",Kitchen,\"Smoking ...</td>\n",
              "    </tr>\n",
              "    <tr>\n",
              "      <th>16</th>\n",
              "      <td>5.003946</td>\n",
              "      <td>Apartment</td>\n",
              "      <td>6</td>\n",
              "      <td>100.0</td>\n",
              "      <td>3.0</td>\n",
              "      <td>{TV,\"Cable TV\",Internet,\"Wireless Internet\",\"A...</td>\n",
              "    </tr>\n",
              "    <tr>\n",
              "      <th>...</th>\n",
              "      <td>...</td>\n",
              "      <td>...</td>\n",
              "      <td>...</td>\n",
              "      <td>...</td>\n",
              "      <td>...</td>\n",
              "      <td>...</td>\n",
              "    </tr>\n",
              "    <tr>\n",
              "      <th>53051</th>\n",
              "      <td>3.688879</td>\n",
              "      <td>Apartment</td>\n",
              "      <td>2</td>\n",
              "      <td>86.0</td>\n",
              "      <td>1.0</td>\n",
              "      <td>{TV,Internet,\"Wireless Internet\",\"Air conditio...</td>\n",
              "    </tr>\n",
              "    <tr>\n",
              "      <th>53052</th>\n",
              "      <td>3.912023</td>\n",
              "      <td>Apartment</td>\n",
              "      <td>2</td>\n",
              "      <td>60.0</td>\n",
              "      <td>1.0</td>\n",
              "      <td>{TV,\"Cable TV\",Internet,\"Wireless Internet\",\"A...</td>\n",
              "    </tr>\n",
              "    <tr>\n",
              "      <th>53053</th>\n",
              "      <td>4.700480</td>\n",
              "      <td>Apartment</td>\n",
              "      <td>2</td>\n",
              "      <td>92.0</td>\n",
              "      <td>1.0</td>\n",
              "      <td>{Internet,\"Wireless Internet\",\"Air conditionin...</td>\n",
              "    </tr>\n",
              "    <tr>\n",
              "      <th>53060</th>\n",
              "      <td>4.605170</td>\n",
              "      <td>Apartment</td>\n",
              "      <td>1</td>\n",
              "      <td>NaN</td>\n",
              "      <td>1.0</td>\n",
              "      <td>{}</td>\n",
              "    </tr>\n",
              "    <tr>\n",
              "      <th>53061</th>\n",
              "      <td>5.220356</td>\n",
              "      <td>Apartment</td>\n",
              "      <td>5</td>\n",
              "      <td>94.0</td>\n",
              "      <td>2.0</td>\n",
              "      <td>{TV,Internet,\"Wireless Internet\",\"Air conditio...</td>\n",
              "    </tr>\n",
              "  </tbody>\n",
              "</table>\n",
              "<p>24688 rows × 6 columns</p>\n",
              "</div>\n",
              "    <div class=\"colab-df-buttons\">\n",
              "\n",
              "  <div class=\"colab-df-container\">\n",
              "    <button class=\"colab-df-convert\" onclick=\"convertToInteractive('df-e06e7dfd-ba8f-4b97-a0eb-2f146b69ffae')\"\n",
              "            title=\"Convert this dataframe to an interactive table.\"\n",
              "            style=\"display:none;\">\n",
              "\n",
              "  <svg xmlns=\"http://www.w3.org/2000/svg\" height=\"24px\" viewBox=\"0 -960 960 960\">\n",
              "    <path d=\"M120-120v-720h720v720H120Zm60-500h600v-160H180v160Zm220 220h160v-160H400v160Zm0 220h160v-160H400v160ZM180-400h160v-160H180v160Zm440 0h160v-160H620v160ZM180-180h160v-160H180v160Zm440 0h160v-160H620v160Z\"/>\n",
              "  </svg>\n",
              "    </button>\n",
              "\n",
              "  <style>\n",
              "    .colab-df-container {\n",
              "      display:flex;\n",
              "      gap: 12px;\n",
              "    }\n",
              "\n",
              "    .colab-df-convert {\n",
              "      background-color: #E8F0FE;\n",
              "      border: none;\n",
              "      border-radius: 50%;\n",
              "      cursor: pointer;\n",
              "      display: none;\n",
              "      fill: #1967D2;\n",
              "      height: 32px;\n",
              "      padding: 0 0 0 0;\n",
              "      width: 32px;\n",
              "    }\n",
              "\n",
              "    .colab-df-convert:hover {\n",
              "      background-color: #E2EBFA;\n",
              "      box-shadow: 0px 1px 2px rgba(60, 64, 67, 0.3), 0px 1px 3px 1px rgba(60, 64, 67, 0.15);\n",
              "      fill: #174EA6;\n",
              "    }\n",
              "\n",
              "    .colab-df-buttons div {\n",
              "      margin-bottom: 4px;\n",
              "    }\n",
              "\n",
              "    [theme=dark] .colab-df-convert {\n",
              "      background-color: #3B4455;\n",
              "      fill: #D2E3FC;\n",
              "    }\n",
              "\n",
              "    [theme=dark] .colab-df-convert:hover {\n",
              "      background-color: #434B5C;\n",
              "      box-shadow: 0px 1px 3px 1px rgba(0, 0, 0, 0.15);\n",
              "      filter: drop-shadow(0px 1px 2px rgba(0, 0, 0, 0.3));\n",
              "      fill: #FFFFFF;\n",
              "    }\n",
              "  </style>\n",
              "\n",
              "    <script>\n",
              "      const buttonEl =\n",
              "        document.querySelector('#df-e06e7dfd-ba8f-4b97-a0eb-2f146b69ffae button.colab-df-convert');\n",
              "      buttonEl.style.display =\n",
              "        google.colab.kernel.accessAllowed ? 'block' : 'none';\n",
              "\n",
              "      async function convertToInteractive(key) {\n",
              "        const element = document.querySelector('#df-e06e7dfd-ba8f-4b97-a0eb-2f146b69ffae');\n",
              "        const dataTable =\n",
              "          await google.colab.kernel.invokeFunction('convertToInteractive',\n",
              "                                                    [key], {});\n",
              "        if (!dataTable) return;\n",
              "\n",
              "        const docLinkHtml = 'Like what you see? Visit the ' +\n",
              "          '<a target=\"_blank\" href=https://colab.research.google.com/notebooks/data_table.ipynb>data table notebook</a>'\n",
              "          + ' to learn more about interactive tables.';\n",
              "        element.innerHTML = '';\n",
              "        dataTable['output_type'] = 'display_data';\n",
              "        await google.colab.output.renderOutput(dataTable, element);\n",
              "        const docLink = document.createElement('div');\n",
              "        docLink.innerHTML = docLinkHtml;\n",
              "        element.appendChild(docLink);\n",
              "      }\n",
              "    </script>\n",
              "  </div>\n",
              "\n",
              "\n",
              "<div id=\"df-5c8c77bd-830f-423b-a2e9-26adcf27da53\">\n",
              "  <button class=\"colab-df-quickchart\" onclick=\"quickchart('df-5c8c77bd-830f-423b-a2e9-26adcf27da53')\"\n",
              "            title=\"Suggest charts\"\n",
              "            style=\"display:none;\">\n",
              "\n",
              "<svg xmlns=\"http://www.w3.org/2000/svg\" height=\"24px\"viewBox=\"0 0 24 24\"\n",
              "     width=\"24px\">\n",
              "    <g>\n",
              "        <path d=\"M19 3H5c-1.1 0-2 .9-2 2v14c0 1.1.9 2 2 2h14c1.1 0 2-.9 2-2V5c0-1.1-.9-2-2-2zM9 17H7v-7h2v7zm4 0h-2V7h2v10zm4 0h-2v-4h2v4z\"/>\n",
              "    </g>\n",
              "</svg>\n",
              "  </button>\n",
              "\n",
              "<style>\n",
              "  .colab-df-quickchart {\n",
              "      --bg-color: #E8F0FE;\n",
              "      --fill-color: #1967D2;\n",
              "      --hover-bg-color: #E2EBFA;\n",
              "      --hover-fill-color: #174EA6;\n",
              "      --disabled-fill-color: #AAA;\n",
              "      --disabled-bg-color: #DDD;\n",
              "  }\n",
              "\n",
              "  [theme=dark] .colab-df-quickchart {\n",
              "      --bg-color: #3B4455;\n",
              "      --fill-color: #D2E3FC;\n",
              "      --hover-bg-color: #434B5C;\n",
              "      --hover-fill-color: #FFFFFF;\n",
              "      --disabled-bg-color: #3B4455;\n",
              "      --disabled-fill-color: #666;\n",
              "  }\n",
              "\n",
              "  .colab-df-quickchart {\n",
              "    background-color: var(--bg-color);\n",
              "    border: none;\n",
              "    border-radius: 50%;\n",
              "    cursor: pointer;\n",
              "    display: none;\n",
              "    fill: var(--fill-color);\n",
              "    height: 32px;\n",
              "    padding: 0;\n",
              "    width: 32px;\n",
              "  }\n",
              "\n",
              "  .colab-df-quickchart:hover {\n",
              "    background-color: var(--hover-bg-color);\n",
              "    box-shadow: 0 1px 2px rgba(60, 64, 67, 0.3), 0 1px 3px 1px rgba(60, 64, 67, 0.15);\n",
              "    fill: var(--button-hover-fill-color);\n",
              "  }\n",
              "\n",
              "  .colab-df-quickchart-complete:disabled,\n",
              "  .colab-df-quickchart-complete:disabled:hover {\n",
              "    background-color: var(--disabled-bg-color);\n",
              "    fill: var(--disabled-fill-color);\n",
              "    box-shadow: none;\n",
              "  }\n",
              "\n",
              "  .colab-df-spinner {\n",
              "    border: 2px solid var(--fill-color);\n",
              "    border-color: transparent;\n",
              "    border-bottom-color: var(--fill-color);\n",
              "    animation:\n",
              "      spin 1s steps(1) infinite;\n",
              "  }\n",
              "\n",
              "  @keyframes spin {\n",
              "    0% {\n",
              "      border-color: transparent;\n",
              "      border-bottom-color: var(--fill-color);\n",
              "      border-left-color: var(--fill-color);\n",
              "    }\n",
              "    20% {\n",
              "      border-color: transparent;\n",
              "      border-left-color: var(--fill-color);\n",
              "      border-top-color: var(--fill-color);\n",
              "    }\n",
              "    30% {\n",
              "      border-color: transparent;\n",
              "      border-left-color: var(--fill-color);\n",
              "      border-top-color: var(--fill-color);\n",
              "      border-right-color: var(--fill-color);\n",
              "    }\n",
              "    40% {\n",
              "      border-color: transparent;\n",
              "      border-right-color: var(--fill-color);\n",
              "      border-top-color: var(--fill-color);\n",
              "    }\n",
              "    60% {\n",
              "      border-color: transparent;\n",
              "      border-right-color: var(--fill-color);\n",
              "    }\n",
              "    80% {\n",
              "      border-color: transparent;\n",
              "      border-right-color: var(--fill-color);\n",
              "      border-bottom-color: var(--fill-color);\n",
              "    }\n",
              "    90% {\n",
              "      border-color: transparent;\n",
              "      border-bottom-color: var(--fill-color);\n",
              "    }\n",
              "  }\n",
              "</style>\n",
              "\n",
              "  <script>\n",
              "    async function quickchart(key) {\n",
              "      const quickchartButtonEl =\n",
              "        document.querySelector('#' + key + ' button');\n",
              "      quickchartButtonEl.disabled = true;  // To prevent multiple clicks.\n",
              "      quickchartButtonEl.classList.add('colab-df-spinner');\n",
              "      try {\n",
              "        const charts = await google.colab.kernel.invokeFunction(\n",
              "            'suggestCharts', [key], {});\n",
              "      } catch (error) {\n",
              "        console.error('Error during call to suggestCharts:', error);\n",
              "      }\n",
              "      quickchartButtonEl.classList.remove('colab-df-spinner');\n",
              "      quickchartButtonEl.classList.add('colab-df-quickchart-complete');\n",
              "    }\n",
              "    (() => {\n",
              "      let quickchartButtonEl =\n",
              "        document.querySelector('#df-5c8c77bd-830f-423b-a2e9-26adcf27da53 button');\n",
              "      quickchartButtonEl.style.display =\n",
              "        google.colab.kernel.accessAllowed ? 'block' : 'none';\n",
              "    })();\n",
              "  </script>\n",
              "</div>\n",
              "\n",
              "    </div>\n",
              "  </div>\n"
            ],
            "application/vnd.google.colaboratory.intrinsic+json": {
              "type": "dataframe",
              "summary": "{\n  \"name\": \"df_nyc[['log_price', 'property_type', 'accommodates', 'review_scores_rating', 'bedrooms', 'amenities']]\",\n  \"rows\": 24688,\n  \"fields\": [\n    {\n      \"column\": \"log_price\",\n      \"properties\": {\n        \"dtype\": \"number\",\n        \"std\": 0.661563435663732,\n        \"min\": 0.0,\n        \"max\": 7.6004023345004,\n        \"num_unique_values\": 506,\n        \"samples\": [\n          5.48063892334199,\n          6.620073206530356,\n          6.131226489483143\n        ],\n        \"semantic_type\": \"\",\n        \"description\": \"\"\n      }\n    },\n    {\n      \"column\": \"property_type\",\n      \"properties\": {\n        \"dtype\": \"category\",\n        \"num_unique_values\": 25,\n        \"samples\": [\n          \"Timeshare\",\n          \"Vacation home\",\n          \"Apartment\"\n        ],\n        \"semantic_type\": \"\",\n        \"description\": \"\"\n      }\n    },\n    {\n      \"column\": \"accommodates\",\n      \"properties\": {\n        \"dtype\": \"number\",\n        \"std\": 1,\n        \"min\": 1,\n        \"max\": 16,\n        \"num_unique_values\": 16,\n        \"samples\": [\n          3,\n          7,\n          1\n        ],\n        \"semantic_type\": \"\",\n        \"description\": \"\"\n      }\n    },\n    {\n      \"column\": \"review_scores_rating\",\n      \"properties\": {\n        \"dtype\": \"number\",\n        \"std\": 8.397289570664787,\n        \"min\": 20.0,\n        \"max\": 100.0,\n        \"num_unique_values\": 48,\n        \"samples\": [\n          71.0,\n          68.0,\n          67.0\n        ],\n        \"semantic_type\": \"\",\n        \"description\": \"\"\n      }\n    },\n    {\n      \"column\": \"bedrooms\",\n      \"properties\": {\n        \"dtype\": \"number\",\n        \"std\": 0.7132363680431116,\n        \"min\": 0.0,\n        \"max\": 10.0,\n        \"num_unique_values\": 11,\n        \"samples\": [\n          5.0,\n          1.0,\n          8.0\n        ],\n        \"semantic_type\": \"\",\n        \"description\": \"\"\n      }\n    },\n    {\n      \"column\": \"amenities\",\n      \"properties\": {\n        \"dtype\": \"string\",\n        \"num_unique_values\": 22822,\n        \"samples\": [\n          \"{TV,Internet,\\\"Wireless Internet\\\",Kitchen,\\\"Pets allowed\\\",Elevator,\\\"Buzzer/wireless intercom\\\",Heating,\\\"Family/kid friendly\\\",\\\"Smoke detector\\\",\\\"Carbon monoxide detector\\\",\\\"Safety card\\\",Essentials,Shampoo,\\\"Hair dryer\\\",Iron,\\\"Laptop friendly workspace\\\"}\",\n          \"{TV,\\\"Cable TV\\\",Internet,\\\"Wireless Internet\\\",\\\"Air conditioning\\\",\\\"Wheelchair accessible\\\",Kitchen,\\\"Pets allowed\\\",Elevator,\\\"Buzzer/wireless intercom\\\",Heating,\\\"Family/kid friendly\\\",\\\"Smoke detector\\\",\\\"Carbon monoxide detector\\\",Essentials,Shampoo,\\\"24-hour check-in\\\",\\\"Hair dryer\\\",Iron,\\\"Laptop friendly workspace\\\"}\",\n          \"{TV,Internet,\\\"Wireless Internet\\\",\\\"Air conditioning\\\",Kitchen,Heating,\\\"Smoke detector\\\",\\\"Carbon monoxide detector\\\",\\\"First aid kit\\\",\\\"Fire extinguisher\\\",Hangers,\\\"Hair dryer\\\",Iron}\"\n        ],\n        \"semantic_type\": \"\",\n        \"description\": \"\"\n      }\n    }\n  ]\n}"
            }
          },
          "metadata": {},
          "execution_count": 16
        }
      ]
    },
    {
      "cell_type": "markdown",
      "id": "8e1afeba",
      "metadata": {
        "id": "8e1afeba"
      },
      "source": [
        "Feature Engineering and Preprocessing steps\n",
        "1. Create new features based on existing ones that seem relevant for our task\n",
        "2. Remove variables that do not make business sense in predicting `review_scores_rating`\n",
        "3. Handle missing values\n",
        "4. Scale the numeric features so they are standardized\n",
        "5. Bin categorical features to have roughly even groupings\n",
        "6. Retain top amenities and create binary columns for each\n",
        "7. Apply one-hot encoding for categorical features\n",
        "8. Bin the `review_scores_rating` field into roughly equal groupings\n",
        "9. Combine text data columns\n",
        "10. Test initial models"
      ]
    },
    {
      "cell_type": "markdown",
      "id": "fcac8b83",
      "metadata": {
        "id": "fcac8b83"
      },
      "source": [
        "## 1. Feature Engineering"
      ]
    },
    {
      "cell_type": "code",
      "execution_count": null,
      "id": "a3008714",
      "metadata": {
        "scrolled": true,
        "id": "a3008714",
        "outputId": "9a493fad-a481-4a9e-990b-adbd5074324d",
        "colab": {
          "base_uri": "https://localhost:8080/"
        }
      },
      "outputs": [
        {
          "output_type": "execute_result",
          "data": {
            "text/plain": [
              "Index(['id', 'log_price', 'property_type', 'room_type', 'amenities',\n",
              "       'accommodates', 'bathrooms', 'bed_type', 'cancellation_policy',\n",
              "       'cleaning_fee', 'city', 'description', 'first_review',\n",
              "       'host_has_profile_pic', 'host_identity_verified', 'host_response_rate',\n",
              "       'host_since', 'instant_bookable', 'last_review', 'latitude',\n",
              "       'longitude', 'name', 'neighbourhood', 'number_of_reviews',\n",
              "       'review_scores_rating', 'thumbnail_url', 'zipcode', 'bedrooms', 'beds'],\n",
              "      dtype='object')"
            ]
          },
          "metadata": {},
          "execution_count": 17
        }
      ],
      "source": [
        "#Feature Engineering to create some new columns\n",
        "df_nyc.columns"
      ]
    },
    {
      "cell_type": "code",
      "execution_count": null,
      "id": "41403b30",
      "metadata": {
        "scrolled": false,
        "id": "41403b30",
        "outputId": "b34bae96-5cb1-4012-de65-e231cb2bb5a1",
        "colab": {
          "base_uri": "https://localhost:8080/"
        }
      },
      "outputs": [
        {
          "output_type": "stream",
          "name": "stderr",
          "text": [
            "<ipython-input-18-7258ea7fe389>:2: SettingWithCopyWarning: \n",
            "A value is trying to be set on a copy of a slice from a DataFrame.\n",
            "Try using .loc[row_indexer,col_indexer] = value instead\n",
            "\n",
            "See the caveats in the documentation: https://pandas.pydata.org/pandas-docs/stable/user_guide/indexing.html#returning-a-view-versus-a-copy\n",
            "  df_nyc['first_review'] = pd.to_datetime(df_nyc['first_review'], errors='coerce')\n",
            "<ipython-input-18-7258ea7fe389>:3: SettingWithCopyWarning: \n",
            "A value is trying to be set on a copy of a slice from a DataFrame.\n",
            "Try using .loc[row_indexer,col_indexer] = value instead\n",
            "\n",
            "See the caveats in the documentation: https://pandas.pydata.org/pandas-docs/stable/user_guide/indexing.html#returning-a-view-versus-a-copy\n",
            "  df_nyc['last_review'] = pd.to_datetime(df_nyc['last_review'], errors='coerce')\n",
            "<ipython-input-18-7258ea7fe389>:6: SettingWithCopyWarning: \n",
            "A value is trying to be set on a copy of a slice from a DataFrame.\n",
            "Try using .loc[row_indexer,col_indexer] = value instead\n",
            "\n",
            "See the caveats in the documentation: https://pandas.pydata.org/pandas-docs/stable/user_guide/indexing.html#returning-a-view-versus-a-copy\n",
            "  df_nyc['days_between_reviews'] = (df_nyc['last_review'] - df_nyc['first_review']).dt.days\n"
          ]
        }
      ],
      "source": [
        "#Convert 'first_review' and 'last_review' columns to datetime\n",
        "df_nyc['first_review'] = pd.to_datetime(df_nyc['first_review'], errors='coerce')\n",
        "df_nyc['last_review'] = pd.to_datetime(df_nyc['last_review'], errors='coerce')\n",
        "\n",
        "#Calculate the number of days between 'first_review' and 'last_review'\n",
        "df_nyc['days_between_reviews'] = (df_nyc['last_review'] - df_nyc['first_review']).dt.days\n"
      ]
    },
    {
      "cell_type": "code",
      "execution_count": null,
      "id": "8d5feccc",
      "metadata": {
        "id": "8d5feccc",
        "outputId": "e780d633-a4d8-4934-a06d-0cc4afa0b951",
        "colab": {
          "base_uri": "https://localhost:8080/"
        }
      },
      "outputs": [
        {
          "output_type": "stream",
          "name": "stderr",
          "text": [
            "<ipython-input-19-c702ea407e6d>:2: SettingWithCopyWarning: \n",
            "A value is trying to be set on a copy of a slice from a DataFrame.\n",
            "Try using .loc[row_indexer,col_indexer] = value instead\n",
            "\n",
            "See the caveats in the documentation: https://pandas.pydata.org/pandas-docs/stable/user_guide/indexing.html#returning-a-view-versus-a-copy\n",
            "  df_nyc['price_per_capacity'] = df['log_price'] / df['accommodates']\n"
          ]
        }
      ],
      "source": [
        "#Create price per capacity feature, price relative to number accommodates\n",
        "df_nyc['price_per_capacity'] = df['log_price'] / df['accommodates']"
      ]
    },
    {
      "cell_type": "code",
      "execution_count": null,
      "id": "303d0b19",
      "metadata": {
        "scrolled": false,
        "id": "303d0b19",
        "outputId": "04f666cb-24b6-40b1-ae48-96e46d839adf",
        "colab": {
          "base_uri": "https://localhost:8080/"
        }
      },
      "outputs": [
        {
          "output_type": "stream",
          "name": "stderr",
          "text": [
            "<ipython-input-20-709550992846>:2: SettingWithCopyWarning: \n",
            "A value is trying to be set on a copy of a slice from a DataFrame.\n",
            "Try using .loc[row_indexer,col_indexer] = value instead\n",
            "\n",
            "See the caveats in the documentation: https://pandas.pydata.org/pandas-docs/stable/user_guide/indexing.html#returning-a-view-versus-a-copy\n",
            "  df_nyc['host_since'] = pd.to_datetime(df_nyc['host_since'], errors='coerce')\n",
            "<ipython-input-20-709550992846>:5: SettingWithCopyWarning: \n",
            "A value is trying to be set on a copy of a slice from a DataFrame.\n",
            "Try using .loc[row_indexer,col_indexer] = value instead\n",
            "\n",
            "See the caveats in the documentation: https://pandas.pydata.org/pandas-docs/stable/user_guide/indexing.html#returning-a-view-versus-a-copy\n",
            "  df_nyc['host_days_active'] = (datetime.now() - df_nyc['host_since']).dt.days\n"
          ]
        }
      ],
      "source": [
        "#Convert 'host_since' to datetime\n",
        "df_nyc['host_since'] = pd.to_datetime(df_nyc['host_since'], errors='coerce')\n",
        "\n",
        "#Calculate days active since 'host_since' to the current date\n",
        "df_nyc['host_days_active'] = (datetime.now() - df_nyc['host_since']).dt.days\n"
      ]
    },
    {
      "cell_type": "code",
      "execution_count": null,
      "id": "8f881e94",
      "metadata": {
        "scrolled": true,
        "id": "8f881e94",
        "outputId": "21270953-644a-423a-d490-821720883809",
        "colab": {
          "base_uri": "https://localhost:8080/"
        }
      },
      "outputs": [
        {
          "output_type": "stream",
          "name": "stderr",
          "text": [
            "<ipython-input-21-8054775cc33f>:7: SettingWithCopyWarning: \n",
            "A value is trying to be set on a copy of a slice from a DataFrame.\n",
            "Try using .loc[row_indexer,col_indexer] = value instead\n",
            "\n",
            "See the caveats in the documentation: https://pandas.pydata.org/pandas-docs/stable/user_guide/indexing.html#returning-a-view-versus-a-copy\n",
            "  df_nyc['distance_to_times_square'] = np.sqrt((df_nyc['latitude'] - times_square_lat)**2 +\n"
          ]
        }
      ],
      "source": [
        "#We want to compare latitude/longitude of the listings to a popular attraction like Times Square\n",
        "#Constants for Times Square's coordinates\n",
        "times_square_lat = 40.758896\n",
        "times_square_lon = -73.985130\n",
        "\n",
        "#Calculate Euclidean distance to Times Square\n",
        "df_nyc['distance_to_times_square'] = np.sqrt((df_nyc['latitude'] - times_square_lat)**2 +\n",
        "                                             (df_nyc['longitude'] - times_square_lon)**2)\n"
      ]
    },
    {
      "cell_type": "code",
      "execution_count": null,
      "id": "e379c657",
      "metadata": {
        "scrolled": true,
        "id": "e379c657",
        "outputId": "f977ed35-2f0d-4989-8082-a36026ce5e56",
        "colab": {
          "base_uri": "https://localhost:8080/"
        }
      },
      "outputs": [
        {
          "output_type": "stream",
          "name": "stderr",
          "text": [
            "<ipython-input-22-b99a627f3388>:2: SettingWithCopyWarning: \n",
            "A value is trying to be set on a copy of a slice from a DataFrame.\n",
            "Try using .loc[row_indexer,col_indexer] = value instead\n",
            "\n",
            "See the caveats in the documentation: https://pandas.pydata.org/pandas-docs/stable/user_guide/indexing.html#returning-a-view-versus-a-copy\n",
            "  df_nyc['room_capacity'] = df_nyc['accommodates'] / df_nyc['bedrooms']\n"
          ]
        }
      ],
      "source": [
        "#Find room capacity using bedrooms and accommodates\n",
        "df_nyc['room_capacity'] = df_nyc['accommodates'] / df_nyc['bedrooms']"
      ]
    },
    {
      "cell_type": "code",
      "execution_count": null,
      "id": "7094aa63",
      "metadata": {
        "scrolled": true,
        "id": "7094aa63",
        "outputId": "77cc30f6-592d-44cc-d210-6485f5ddf5de",
        "colab": {
          "base_uri": "https://localhost:8080/"
        }
      },
      "outputs": [
        {
          "output_type": "stream",
          "name": "stderr",
          "text": [
            "<ipython-input-23-2b6daf772977>:2: SettingWithCopyWarning: \n",
            "A value is trying to be set on a copy of a slice from a DataFrame.\n",
            "Try using .loc[row_indexer,col_indexer] = value instead\n",
            "\n",
            "See the caveats in the documentation: https://pandas.pydata.org/pandas-docs/stable/user_guide/indexing.html#returning-a-view-versus-a-copy\n",
            "  df_nyc['host_response_rate'] = df_nyc['host_response_rate'].str.rstrip('%').astype('float')\n"
          ]
        }
      ],
      "source": [
        "#Converting 'host_response_rate' from string percentage to float\n",
        "df_nyc['host_response_rate'] = df_nyc['host_response_rate'].str.rstrip('%').astype('float')"
      ]
    },
    {
      "cell_type": "code",
      "source": [
        "#Adjust price column to get raw value\n",
        "df_nyc['price'] = np.exp(df_nyc['log_price'])\n",
        "\n",
        "#Create 3 equal buckets for the 'price' field using qcut\n",
        "df_nyc['price_bucket'], bin_edges = pd.qcut(\n",
        "    df_nyc['price'],\n",
        "    q=3,\n",
        "    labels=['Low', 'Medium', 'High'],\n",
        "    retbins=True\n",
        ")\n",
        "\n",
        "#Display the numeric ranges for the buckets\n",
        "print(\"Numeric ranges for the price buckets:\")\n",
        "for i in range(len(bin_edges) - 1):\n",
        "    print(f\"Bucket {i+1} ({['Low', 'Medium', 'High'][i]}): {bin_edges[i]:.2f} to {bin_edges[i+1]:.2f}\")\n",
        "\n",
        "#Check the distribution of buckets\n",
        "print(\"\\nBucket distribution:\")\n",
        "print(df_nyc['price_bucket'].value_counts())"
      ],
      "metadata": {
        "colab": {
          "base_uri": "https://localhost:8080/"
        },
        "id": "lVVwCmKyRsCo",
        "outputId": "1b44c049-b0b0-42ca-d745-138d49a9f60d"
      },
      "id": "lVVwCmKyRsCo",
      "execution_count": null,
      "outputs": [
        {
          "output_type": "stream",
          "name": "stdout",
          "text": [
            "Numeric ranges for the price buckets:\n",
            "Bucket 1 (Low): 1.00 to 80.00\n",
            "Bucket 2 (Medium): 80.00 to 150.00\n",
            "Bucket 3 (High): 150.00 to 1999.00\n",
            "\n",
            "Bucket distribution:\n",
            "price_bucket\n",
            "Medium    8829\n",
            "Low       8472\n",
            "High      7387\n",
            "Name: count, dtype: int64\n"
          ]
        },
        {
          "output_type": "stream",
          "name": "stderr",
          "text": [
            "<ipython-input-24-18e292c42f13>:2: SettingWithCopyWarning: \n",
            "A value is trying to be set on a copy of a slice from a DataFrame.\n",
            "Try using .loc[row_indexer,col_indexer] = value instead\n",
            "\n",
            "See the caveats in the documentation: https://pandas.pydata.org/pandas-docs/stable/user_guide/indexing.html#returning-a-view-versus-a-copy\n",
            "  df_nyc['price'] = np.exp(df_nyc['log_price'])\n",
            "<ipython-input-24-18e292c42f13>:5: SettingWithCopyWarning: \n",
            "A value is trying to be set on a copy of a slice from a DataFrame.\n",
            "Try using .loc[row_indexer,col_indexer] = value instead\n",
            "\n",
            "See the caveats in the documentation: https://pandas.pydata.org/pandas-docs/stable/user_guide/indexing.html#returning-a-view-versus-a-copy\n",
            "  df_nyc['price_bucket'], bin_edges = pd.qcut(\n"
          ]
        }
      ]
    },
    {
      "cell_type": "code",
      "source": [
        "#Define the mapping for rating_bucket\n",
        "price_bucket_mapping = {'Low': 0, 'Medium': 1, 'High': 2}\n",
        "\n",
        "#Apply the mapping to the 'rating_bucket' column\n",
        "df_nyc['price_bucket'] = df_nyc['price_bucket'].map(price_bucket_mapping)\n",
        "\n",
        "# Verify the conversion\n",
        "print(df_nyc['price_bucket'].value_counts())"
      ],
      "metadata": {
        "colab": {
          "base_uri": "https://localhost:8080/"
        },
        "id": "hI1PSa_9TjB6",
        "outputId": "c183dddd-423d-49a6-9d30-32bb8e4dad24"
      },
      "id": "hI1PSa_9TjB6",
      "execution_count": null,
      "outputs": [
        {
          "output_type": "stream",
          "name": "stdout",
          "text": [
            "price_bucket\n",
            "1    8829\n",
            "0    8472\n",
            "2    7387\n",
            "Name: count, dtype: int64\n"
          ]
        },
        {
          "output_type": "stream",
          "name": "stderr",
          "text": [
            "<ipython-input-25-96cfd938cc75>:5: SettingWithCopyWarning: \n",
            "A value is trying to be set on a copy of a slice from a DataFrame.\n",
            "Try using .loc[row_indexer,col_indexer] = value instead\n",
            "\n",
            "See the caveats in the documentation: https://pandas.pydata.org/pandas-docs/stable/user_guide/indexing.html#returning-a-view-versus-a-copy\n",
            "  df_nyc['price_bucket'] = df_nyc['price_bucket'].map(price_bucket_mapping)\n"
          ]
        }
      ]
    },
    {
      "cell_type": "code",
      "source": [
        "df_nyc['price_bucket'] = df_nyc['price_bucket'].astype(int)"
      ],
      "metadata": {
        "colab": {
          "base_uri": "https://localhost:8080/"
        },
        "id": "x4JYa_EHV3sP",
        "outputId": "f703eaee-e2ed-461e-ef8a-e7b783ffa5e9"
      },
      "id": "x4JYa_EHV3sP",
      "execution_count": null,
      "outputs": [
        {
          "output_type": "stream",
          "name": "stderr",
          "text": [
            "<ipython-input-26-4b6e5d75d1da>:1: SettingWithCopyWarning: \n",
            "A value is trying to be set on a copy of a slice from a DataFrame.\n",
            "Try using .loc[row_indexer,col_indexer] = value instead\n",
            "\n",
            "See the caveats in the documentation: https://pandas.pydata.org/pandas-docs/stable/user_guide/indexing.html#returning-a-view-versus-a-copy\n",
            "  df_nyc['price_bucket'] = df_nyc['price_bucket'].astype(int)\n"
          ]
        }
      ]
    },
    {
      "cell_type": "markdown",
      "id": "7c31b94e",
      "metadata": {
        "id": "7c31b94e"
      },
      "source": [
        "## 2. Remove Irrelevant or Highly Correlated Variables"
      ]
    },
    {
      "cell_type": "code",
      "execution_count": null,
      "id": "ed594f3f",
      "metadata": {
        "scrolled": true,
        "id": "ed594f3f",
        "outputId": "df954bec-f998-4ad6-e5cb-a8c2823841cc",
        "colab": {
          "base_uri": "https://localhost:8080/"
        }
      },
      "outputs": [
        {
          "output_type": "stream",
          "name": "stdout",
          "text": [
            "Index(['property_type', 'room_type', 'amenities', 'accommodates', 'bathrooms',\n",
            "       'cancellation_policy', 'cleaning_fee', 'description',\n",
            "       'host_has_profile_pic', 'host_identity_verified', 'host_response_rate',\n",
            "       'instant_bookable', 'name', 'neighbourhood', 'number_of_reviews',\n",
            "       'review_scores_rating', 'bedrooms', 'days_between_reviews',\n",
            "       'price_per_capacity', 'host_days_active', 'distance_to_times_square',\n",
            "       'room_capacity', 'price_bucket'],\n",
            "      dtype='object')\n"
          ]
        }
      ],
      "source": [
        "#Dropping specified columns\n",
        "columns_to_drop = ['id', 'first_review', 'last_review', 'latitude', 'longitude',\n",
        "                   'thumbnail_url', 'zipcode', 'city', 'host_since', 'beds', 'bed_type', 'log_price', 'price']\n",
        "df_nyc = df_nyc.drop(columns=columns_to_drop, errors='ignore')\n",
        "\n",
        "# Display the updated DataFrame's columns\n",
        "print(df_nyc.columns)"
      ]
    },
    {
      "cell_type": "markdown",
      "id": "86718f49",
      "metadata": {
        "id": "86718f49"
      },
      "source": [
        "## 3. Handle Missing Values"
      ]
    },
    {
      "cell_type": "code",
      "execution_count": null,
      "id": "6503a2e0",
      "metadata": {
        "id": "6503a2e0"
      },
      "outputs": [],
      "source": [
        "#Drop rows with missing review score ratings to maintain outcome integrity\n",
        "#We do not want to introduce noise/variability in the outcome\n",
        "df_nyc = df_nyc.dropna(subset=['review_scores_rating'])"
      ]
    },
    {
      "cell_type": "code",
      "execution_count": null,
      "id": "6d202fa2",
      "metadata": {
        "scrolled": false,
        "id": "6d202fa2",
        "outputId": "e8f0df08-b538-489d-fb0b-2f1227a236e0",
        "colab": {
          "base_uri": "https://localhost:8080/"
        }
      },
      "outputs": [
        {
          "output_type": "stream",
          "name": "stdout",
          "text": [
            "    bathrooms  host_response_rate  bedrooms  host_days_active  room_capacity\n",
            "0         1.0           94.687082       1.0            4638.0       3.000000\n",
            "1         1.0          100.000000       3.0            2727.0       2.333333\n",
            "8         1.0          100.000000       1.0            4272.0       2.000000\n",
            "13        1.5          100.000000       1.0            3754.0       2.000000\n",
            "16        1.0          100.000000       3.0            2887.0       2.000000\n"
          ]
        }
      ],
      "source": [
        "# Selecting the numeric fields for imputation\n",
        "fields_to_impute = ['bathrooms', 'host_response_rate', 'bedrooms', 'host_days_active', 'room_capacity']\n",
        "\n",
        "# Replace inf/-inf values with NaN\n",
        "df_nyc[fields_to_impute] = df_nyc[fields_to_impute].replace([np.inf, -np.inf], np.nan)\n",
        "\n",
        "# Applying Iterative Imputer after handling inf values\n",
        "imputer = IterativeImputer(max_iter=10, random_state=0)\n",
        "df_nyc[fields_to_impute] = imputer.fit_transform(df_nyc[fields_to_impute])\n",
        "\n",
        "# Displaying the first few rows to verify imputation\n",
        "print(df_nyc[fields_to_impute].head())\n"
      ]
    },
    {
      "cell_type": "code",
      "execution_count": null,
      "id": "f441298a",
      "metadata": {
        "id": "f441298a",
        "colab": {
          "base_uri": "https://localhost:8080/"
        },
        "outputId": "543a5692-9175-45a0-f6af-ec143e13ec11"
      },
      "outputs": [
        {
          "output_type": "stream",
          "name": "stderr",
          "text": [
            "<ipython-input-30-2c665f8334e0>:6: FutureWarning: Downcasting object dtype arrays on .fillna, .ffill, .bfill is deprecated and will change in a future version. Call result.infer_objects(copy=False) instead. To opt-in to the future behavior, set `pd.set_option('future.no_silent_downcasting', True)`\n",
            "  df_nyc[col] = df_nyc[col].fillna(df_nyc[col].mode()[0])\n"
          ]
        }
      ],
      "source": [
        "# Selecting the categorical fields for imputation\n",
        "cat_fields = ['host_has_profile_pic', 'host_identity_verified', 'neighbourhood']\n",
        "\n",
        "# Impute categorical columns with mode = different method?\n",
        "for col in cat_fields:\n",
        "    df_nyc[col] = df_nyc[col].fillna(df_nyc[col].mode()[0])\n"
      ]
    },
    {
      "cell_type": "markdown",
      "id": "58566cce",
      "metadata": {
        "id": "58566cce"
      },
      "source": [
        "## 4. Scale Numeric Features"
      ]
    },
    {
      "cell_type": "code",
      "execution_count": null,
      "id": "32f7f90d",
      "metadata": {
        "scrolled": true,
        "id": "32f7f90d"
      },
      "outputs": [],
      "source": [
        "# List of numeric features and the outcome variable\n",
        "numeric_features = ['accommodates', 'bathrooms', 'host_response_rate',\n",
        "                    'number_of_reviews', 'bedrooms', 'days_between_reviews',\n",
        "                    'price_per_capacity', 'host_days_active', 'distance_to_times_square',\n",
        "                    'room_capacity']\n",
        "\n",
        "# Standardize the numeric features including the outcome variable\n",
        "scaler = StandardScaler()\n",
        "df_nyc[numeric_features] = scaler.fit_transform(df_nyc[numeric_features])\n"
      ]
    },
    {
      "cell_type": "code",
      "execution_count": null,
      "id": "fbb3b30d",
      "metadata": {
        "id": "fbb3b30d"
      },
      "outputs": [],
      "source": [
        "#Convert column 'cleaning_fee' to binary (1 for True, 0 for False)\n",
        "df_nyc['cleaning_fee'] = df_nyc['cleaning_fee'].astype(int)\n",
        "\n",
        "#Convert column 'host_has_profile_pic' to binary (1 for True, 0 for False)\n",
        "df_nyc['host_has_profile_pic'] = df_nyc['host_has_profile_pic'].astype(int)\n",
        "\n",
        "#Convert column 'host_identity_verified' to binary (1 for True, 0 for False)\n",
        "df_nyc['host_identity_verified'] = df_nyc['host_identity_verified'].astype(int)\n",
        "\n",
        "#Convert column 'instant_bookable' to binary (1 for True, 0 for False)\n",
        "df_nyc['instant_bookable'] = df_nyc['instant_bookable'].astype(int)"
      ]
    },
    {
      "cell_type": "markdown",
      "id": "cec54254",
      "metadata": {
        "id": "cec54254"
      },
      "source": [
        "## 5. Bin Categorical Features into Even Groups"
      ]
    },
    {
      "cell_type": "code",
      "execution_count": null,
      "id": "2c5cd70d",
      "metadata": {
        "scrolled": false,
        "id": "2c5cd70d",
        "outputId": "16bc4a34-9ca6-46f4-df9a-b6195cf96c40",
        "colab": {
          "base_uri": "https://localhost:8080/",
          "height": 304
        }
      },
      "outputs": [
        {
          "output_type": "execute_result",
          "data": {
            "text/plain": [
              "property_type\n",
              "Apartment      16089\n",
              "House           1534\n",
              "Loft             350\n",
              "Townhouse        338\n",
              "Other            277\n",
              "Condominium      243\n",
              "Name: count, dtype: int64"
            ],
            "text/html": [
              "<div>\n",
              "<style scoped>\n",
              "    .dataframe tbody tr th:only-of-type {\n",
              "        vertical-align: middle;\n",
              "    }\n",
              "\n",
              "    .dataframe tbody tr th {\n",
              "        vertical-align: top;\n",
              "    }\n",
              "\n",
              "    .dataframe thead th {\n",
              "        text-align: right;\n",
              "    }\n",
              "</style>\n",
              "<table border=\"1\" class=\"dataframe\">\n",
              "  <thead>\n",
              "    <tr style=\"text-align: right;\">\n",
              "      <th></th>\n",
              "      <th>count</th>\n",
              "    </tr>\n",
              "    <tr>\n",
              "      <th>property_type</th>\n",
              "      <th></th>\n",
              "    </tr>\n",
              "  </thead>\n",
              "  <tbody>\n",
              "    <tr>\n",
              "      <th>Apartment</th>\n",
              "      <td>16089</td>\n",
              "    </tr>\n",
              "    <tr>\n",
              "      <th>House</th>\n",
              "      <td>1534</td>\n",
              "    </tr>\n",
              "    <tr>\n",
              "      <th>Loft</th>\n",
              "      <td>350</td>\n",
              "    </tr>\n",
              "    <tr>\n",
              "      <th>Townhouse</th>\n",
              "      <td>338</td>\n",
              "    </tr>\n",
              "    <tr>\n",
              "      <th>Other</th>\n",
              "      <td>277</td>\n",
              "    </tr>\n",
              "    <tr>\n",
              "      <th>Condominium</th>\n",
              "      <td>243</td>\n",
              "    </tr>\n",
              "  </tbody>\n",
              "</table>\n",
              "</div><br><label><b>dtype:</b> int64</label>"
            ]
          },
          "metadata": {},
          "execution_count": 33
        }
      ],
      "source": [
        "#Define a list of categories to bin into \"Other\"\n",
        "categories_to_bin = ['Bed & Breakfast', 'Guest suite', 'Timeshare', 'Guesthouse', 'Hostel',\n",
        "                     'Villa', 'Bungalow', 'Dorm', 'Boutique hotel', 'Serviced apartment',\n",
        "                     'Boat', 'In-law', 'Vacation home', 'Chalet', 'Yurt', 'Cabin',\n",
        "                     'Earth House', 'Castle']\n",
        "\n",
        "#Update 'property_type' column\n",
        "df_nyc['property_type'] = df_nyc['property_type'].apply(lambda x: 'Other' if x in categories_to_bin else x)\n",
        "\n",
        "#Verify the new value counts\n",
        "df_nyc['property_type'].value_counts()\n"
      ]
    },
    {
      "cell_type": "code",
      "source": [
        "df_nyc['neighbourhood'].value_counts()"
      ],
      "metadata": {
        "colab": {
          "base_uri": "https://localhost:8080/",
          "height": 490
        },
        "id": "4F4y-S2eqKVu",
        "outputId": "cb239c85-d4b3-4b42-f6c1-81c8e969f6a2"
      },
      "id": "4F4y-S2eqKVu",
      "execution_count": null,
      "outputs": [
        {
          "output_type": "execute_result",
          "data": {
            "text/plain": [
              "neighbourhood\n",
              "Williamsburg          1684\n",
              "Bedford-Stuyvesant    1351\n",
              "Bushwick               920\n",
              "Upper West Side        826\n",
              "Hell's Kitchen         793\n",
              "                      ... \n",
              "Annadale                 1\n",
              "Oakwood                  1\n",
              "Van Nest                 1\n",
              "Emerson Hill             1\n",
              "Grant City               1\n",
              "Name: count, Length: 190, dtype: int64"
            ],
            "text/html": [
              "<div>\n",
              "<style scoped>\n",
              "    .dataframe tbody tr th:only-of-type {\n",
              "        vertical-align: middle;\n",
              "    }\n",
              "\n",
              "    .dataframe tbody tr th {\n",
              "        vertical-align: top;\n",
              "    }\n",
              "\n",
              "    .dataframe thead th {\n",
              "        text-align: right;\n",
              "    }\n",
              "</style>\n",
              "<table border=\"1\" class=\"dataframe\">\n",
              "  <thead>\n",
              "    <tr style=\"text-align: right;\">\n",
              "      <th></th>\n",
              "      <th>count</th>\n",
              "    </tr>\n",
              "    <tr>\n",
              "      <th>neighbourhood</th>\n",
              "      <th></th>\n",
              "    </tr>\n",
              "  </thead>\n",
              "  <tbody>\n",
              "    <tr>\n",
              "      <th>Williamsburg</th>\n",
              "      <td>1684</td>\n",
              "    </tr>\n",
              "    <tr>\n",
              "      <th>Bedford-Stuyvesant</th>\n",
              "      <td>1351</td>\n",
              "    </tr>\n",
              "    <tr>\n",
              "      <th>Bushwick</th>\n",
              "      <td>920</td>\n",
              "    </tr>\n",
              "    <tr>\n",
              "      <th>Upper West Side</th>\n",
              "      <td>826</td>\n",
              "    </tr>\n",
              "    <tr>\n",
              "      <th>Hell's Kitchen</th>\n",
              "      <td>793</td>\n",
              "    </tr>\n",
              "    <tr>\n",
              "      <th>...</th>\n",
              "      <td>...</td>\n",
              "    </tr>\n",
              "    <tr>\n",
              "      <th>Annadale</th>\n",
              "      <td>1</td>\n",
              "    </tr>\n",
              "    <tr>\n",
              "      <th>Oakwood</th>\n",
              "      <td>1</td>\n",
              "    </tr>\n",
              "    <tr>\n",
              "      <th>Van Nest</th>\n",
              "      <td>1</td>\n",
              "    </tr>\n",
              "    <tr>\n",
              "      <th>Emerson Hill</th>\n",
              "      <td>1</td>\n",
              "    </tr>\n",
              "    <tr>\n",
              "      <th>Grant City</th>\n",
              "      <td>1</td>\n",
              "    </tr>\n",
              "  </tbody>\n",
              "</table>\n",
              "<p>190 rows × 1 columns</p>\n",
              "</div><br><label><b>dtype:</b> int64</label>"
            ]
          },
          "metadata": {},
          "execution_count": 34
        }
      ]
    },
    {
      "cell_type": "code",
      "execution_count": null,
      "id": "f878bc61",
      "metadata": {
        "id": "f878bc61",
        "outputId": "968b3884-0b3f-4495-e579-b062f9b2af4a",
        "colab": {
          "base_uri": "https://localhost:8080/"
        }
      },
      "outputs": [
        {
          "output_type": "stream",
          "name": "stdout",
          "text": [
            "neighbourhood_group\n",
            "High Frequency      12438\n",
            "Medium Frequency     5572\n",
            "Low Frequency         821\n",
            "Name: count, dtype: int64\n"
          ]
        }
      ],
      "source": [
        "#Calculate total number of neighborhoods and cumulative counts\n",
        "total_neighborhoods = df_nyc['neighbourhood'].value_counts()\n",
        "\n",
        "#Determine thresholds for grouping (e.g., top 10%, 10%-40%, and remaining)\n",
        "high_threshold = total_neighborhoods.quantile(0.9)\n",
        "medium_threshold = total_neighborhoods.quantile(0.6)\n",
        "\n",
        "#Apply binning based on thresholds\n",
        "def bin_neighbourhood(neighbourhood):\n",
        "    count = total_neighborhoods.get(neighbourhood, 0)\n",
        "    if count >= high_threshold:\n",
        "        return 'High Frequency'\n",
        "    elif count >= medium_threshold:\n",
        "        return 'Medium Frequency'\n",
        "    else:\n",
        "        return 'Low Frequency'\n",
        "\n",
        "#Create a new grouped neighbourhood feature\n",
        "df_nyc['neighbourhood_group'] = df_nyc['neighbourhood'].apply(bin_neighbourhood)\n",
        "\n",
        "#Check value counts for the new groups\n",
        "print(df_nyc['neighbourhood_group'].value_counts())\n"
      ]
    },
    {
      "cell_type": "code",
      "execution_count": null,
      "id": "ce4e6aa9",
      "metadata": {
        "id": "ce4e6aa9"
      },
      "outputs": [],
      "source": [
        "#Dropping neighbourhood\n",
        "drop_neighbourhood = ['neighbourhood']\n",
        "df_nyc = df_nyc.drop(columns=drop_neighbourhood, errors='ignore')"
      ]
    },
    {
      "cell_type": "code",
      "execution_count": null,
      "id": "b7943e81",
      "metadata": {
        "id": "b7943e81"
      },
      "outputs": [],
      "source": [
        "#Update 'cancellation_policy' by combining 'super_strict_30' and 'super_strict_60' into 'strict'\n",
        "df_nyc['cancellation_policy'] = df_nyc['cancellation_policy'].replace({'super_strict_30': 'strict', 'super_strict_60': 'strict'})"
      ]
    },
    {
      "cell_type": "markdown",
      "id": "672d85e1",
      "metadata": {
        "id": "672d85e1"
      },
      "source": [
        "## 6. Retain top amenities and create binary columns for each"
      ]
    },
    {
      "cell_type": "code",
      "execution_count": null,
      "id": "4219a8b5",
      "metadata": {
        "scrolled": true,
        "id": "4219a8b5"
      },
      "outputs": [],
      "source": [
        "#Top 10 amenities to check using the plot from EDA\n",
        "top_amenities = [\n",
        "    \"wireless internet\", \"kitchen\", \"heating\", \"essentials\",\n",
        "    \"air conditioning\", \"smoke detector\", \"tv\", \"hangers\",\n",
        "    \"carbon monoxide detector\", \"shampoo\"\n",
        "]\n",
        "\n",
        "#Strip any formatting from the amenities strings for standardization\n",
        "df_nyc['amenities'] = df_nyc['amenities'].str.lower().str.replace('\"', '').str.replace('{', '').str.replace('}', '')\n",
        "\n",
        "# Create a column for each top amenity\n",
        "for amenity in top_amenities:\n",
        "    column_name = amenity.lower().replace(\" \", \"_\")  # Create column names\n",
        "    df_nyc[column_name] = df_nyc['amenities'].apply(lambda x: int(amenity.lower() in x))"
      ]
    },
    {
      "cell_type": "code",
      "execution_count": null,
      "id": "e581c58d",
      "metadata": {
        "id": "e581c58d"
      },
      "outputs": [],
      "source": [
        "#Drop amenities\n",
        "drop_amenities = ['amenities']\n",
        "df_nyc = df_nyc.drop(columns=drop_amenities, errors='ignore')"
      ]
    },
    {
      "cell_type": "markdown",
      "id": "02d9c0ed",
      "metadata": {
        "id": "02d9c0ed"
      },
      "source": [
        "## 7. Apply one-hot encoding for categorical features"
      ]
    },
    {
      "cell_type": "code",
      "execution_count": null,
      "id": "bf43abc4",
      "metadata": {
        "scrolled": true,
        "id": "bf43abc4"
      },
      "outputs": [],
      "source": [
        "categorical_columns = ['property_type', 'room_type', 'cancellation_policy', 'neighbourhood_group']\n",
        "df_nyc = pd.get_dummies(df_nyc, columns=categorical_columns, drop_first=True, dtype = int)"
      ]
    },
    {
      "cell_type": "markdown",
      "id": "1fc81d4f",
      "metadata": {
        "id": "1fc81d4f"
      },
      "source": [
        "## 8. Bin the review_scores_rating field into roughly equal groupings"
      ]
    },
    {
      "cell_type": "code",
      "execution_count": null,
      "id": "0183bf97",
      "metadata": {
        "scrolled": true,
        "id": "0183bf97",
        "outputId": "edb39333-c568-4eac-a034-431a62746b16",
        "colab": {
          "base_uri": "https://localhost:8080/",
          "height": 766
        }
      },
      "outputs": [
        {
          "output_type": "stream",
          "name": "stdout",
          "text": [
            "    review_scores_rating  rating_bucket\n",
            "0                  100.0  Perfect Score\n",
            "1                   93.0     High Score\n",
            "8                   93.0     High Score\n",
            "13                  89.0      Low Score\n",
            "16                 100.0  Perfect Score\n"
          ]
        },
        {
          "output_type": "stream",
          "name": "stderr",
          "text": [
            "<ipython-input-27-835ef1ada224>:17: FutureWarning: \n",
            "\n",
            "Passing `palette` without assigning `hue` is deprecated and will be removed in v0.14.0. Assign the `x` variable to `hue` and set `legend=False` for the same effect.\n",
            "\n",
            "  sns.countplot(data=df_nyc, x='rating_bucket', palette='viridis')\n"
          ]
        },
        {
          "output_type": "display_data",
          "data": {
            "text/plain": [
              "<Figure size 800x600 with 1 Axes>"
            ],
            "image/png": "[encoded data removed]"
          },
          "metadata": {}
        }
      ],
      "source": [
        "def bucketize_rating(rating):\n",
        "    if rating == 100:\n",
        "        return 'Perfect Score'\n",
        "    elif 90 <= rating <= 99:\n",
        "        return 'High Score'\n",
        "    else:\n",
        "        return 'Low Score'\n",
        "\n",
        "df_nyc['rating_bucket'] = df_nyc['review_scores_rating'].apply(bucketize_rating)\n",
        "\n",
        "#Check the result\n",
        "print(df_nyc[['review_scores_rating', 'rating_bucket']].head())\n",
        "\n",
        "\n",
        "#Distribution of bucketized ratings\n",
        "plt.figure(figsize=(8, 6))\n",
        "sns.countplot(data=df_nyc, x='rating_bucket', palette='viridis')\n",
        "\n",
        "plt.title('Distribution of Rating Buckets', fontsize=16)\n",
        "plt.xlabel('Rating Bucket', fontsize=12)\n",
        "plt.ylabel('Count', fontsize=12)\n",
        "plt.show()"
      ]
    },
    {
      "cell_type": "code",
      "execution_count": null,
      "id": "6ceea860",
      "metadata": {
        "id": "6ceea860",
        "outputId": "be4ae0fe-a7d3-4203-a079-7fa29f5dffaa",
        "colab": {
          "base_uri": "https://localhost:8080/",
          "height": 210
        }
      },
      "outputs": [
        {
          "output_type": "execute_result",
          "data": {
            "text/plain": [
              "rating_bucket\n",
              "High Score       9716\n",
              "Perfect Score    5443\n",
              "Low Score        3672\n",
              "Name: count, dtype: int64"
            ],
            "text/html": [
              "<div>\n",
              "<style scoped>\n",
              "    .dataframe tbody tr th:only-of-type {\n",
              "        vertical-align: middle;\n",
              "    }\n",
              "\n",
              "    .dataframe tbody tr th {\n",
              "        vertical-align: top;\n",
              "    }\n",
              "\n",
              "    .dataframe thead th {\n",
              "        text-align: right;\n",
              "    }\n",
              "</style>\n",
              "<table border=\"1\" class=\"dataframe\">\n",
              "  <thead>\n",
              "    <tr style=\"text-align: right;\">\n",
              "      <th></th>\n",
              "      <th>count</th>\n",
              "    </tr>\n",
              "    <tr>\n",
              "      <th>rating_bucket</th>\n",
              "      <th></th>\n",
              "    </tr>\n",
              "  </thead>\n",
              "  <tbody>\n",
              "    <tr>\n",
              "      <th>High Score</th>\n",
              "      <td>9716</td>\n",
              "    </tr>\n",
              "    <tr>\n",
              "      <th>Perfect Score</th>\n",
              "      <td>5443</td>\n",
              "    </tr>\n",
              "    <tr>\n",
              "      <th>Low Score</th>\n",
              "      <td>3672</td>\n",
              "    </tr>\n",
              "  </tbody>\n",
              "</table>\n",
              "</div><br><label><b>dtype:</b> int64</label>"
            ]
          },
          "metadata": {},
          "execution_count": 28
        }
      ],
      "source": [
        "#View the counts in each bin\n",
        "df_nyc['rating_bucket'].value_counts()"
      ]
    },
    {
      "cell_type": "code",
      "execution_count": null,
      "id": "de9a8914",
      "metadata": {
        "id": "de9a8914"
      },
      "outputs": [],
      "source": [
        "#Dropping review score rating and using the rating bucket as target\n",
        "drop_score = ['review_scores_rating']\n",
        "df_nyc = df_nyc.drop(columns=drop_score, errors='ignore')"
      ]
    },
    {
      "cell_type": "code",
      "execution_count": null,
      "id": "14edc704",
      "metadata": {
        "scrolled": false,
        "id": "14edc704",
        "outputId": "8076eb23-aa06-4bd3-ae18-69548265612f",
        "colab": {
          "base_uri": "https://localhost:8080/"
        }
      },
      "outputs": [
        {
          "output_type": "stream",
          "name": "stdout",
          "text": [
            "rating_bucket\n",
            "1    9716\n",
            "2    5443\n",
            "0    3672\n",
            "Name: count, dtype: int64\n"
          ]
        }
      ],
      "source": [
        "# Define the mapping for rating_bucket\n",
        "rating_bucket_mapping = {'Low Score': 0, 'High Score': 1, 'Perfect Score': 2}\n",
        "\n",
        "# Apply the mapping to the 'rating_bucket' column\n",
        "df_nyc['rating_bucket'] = df_nyc['rating_bucket'].map(rating_bucket_mapping)\n",
        "\n",
        "# Verify the conversion\n",
        "print(df_nyc['rating_bucket'].value_counts())\n"
      ]
    },
    {
      "cell_type": "markdown",
      "id": "7022fe50",
      "metadata": {
        "id": "7022fe50"
      },
      "source": [
        "## 9. Combine Text Data Columns"
      ]
    },
    {
      "cell_type": "code",
      "execution_count": null,
      "id": "15ff233e",
      "metadata": {
        "id": "15ff233e"
      },
      "outputs": [],
      "source": [
        "df_nyc['text'] = df_nyc['name'] + ' ' + df_nyc['description']"
      ]
    },
    {
      "cell_type": "code",
      "execution_count": null,
      "id": "a278323c",
      "metadata": {
        "id": "a278323c"
      },
      "outputs": [],
      "source": [
        "#Dropping description and name\n",
        "drop_text = ['description', 'name']\n",
        "df_nyc = df_nyc.drop(columns=drop_text, errors='ignore')"
      ]
    },
    {
      "cell_type": "code",
      "source": [
        "df_nyc.info()"
      ],
      "metadata": {
        "colab": {
          "base_uri": "https://localhost:8080/"
        },
        "id": "c4Io9oqNVqEx",
        "outputId": "a98ba497-a506-4f8f-d281-7bb8efadbee6"
      },
      "id": "c4Io9oqNVqEx",
      "execution_count": null,
      "outputs": [
        {
          "output_type": "stream",
          "name": "stdout",
          "text": [
            "<class 'pandas.core.frame.DataFrame'>\n",
            "Index: 18831 entries, 0 to 53061\n",
            "Data columns (total 38 columns):\n",
            " #   Column                                Non-Null Count  Dtype  \n",
            "---  ------                                --------------  -----  \n",
            " 0   accommodates                          18831 non-null  float64\n",
            " 1   bathrooms                             18831 non-null  float64\n",
            " 2   cleaning_fee                          18831 non-null  int64  \n",
            " 3   host_has_profile_pic                  18831 non-null  int64  \n",
            " 4   host_identity_verified                18831 non-null  int64  \n",
            " 5   host_response_rate                    18831 non-null  float64\n",
            " 6   instant_bookable                      18831 non-null  int64  \n",
            " 7   number_of_reviews                     18831 non-null  float64\n",
            " 8   bedrooms                              18831 non-null  float64\n",
            " 9   days_between_reviews                  18831 non-null  float64\n",
            " 10  price_per_capacity                    18831 non-null  float64\n",
            " 11  host_days_active                      18831 non-null  float64\n",
            " 12  distance_to_times_square              18831 non-null  float64\n",
            " 13  room_capacity                         18831 non-null  float64\n",
            " 14  price_bucket                          18831 non-null  int64  \n",
            " 15  wireless_internet                     18831 non-null  int64  \n",
            " 16  kitchen                               18831 non-null  int64  \n",
            " 17  heating                               18831 non-null  int64  \n",
            " 18  essentials                            18831 non-null  int64  \n",
            " 19  air_conditioning                      18831 non-null  int64  \n",
            " 20  smoke_detector                        18831 non-null  int64  \n",
            " 21  tv                                    18831 non-null  int64  \n",
            " 22  hangers                               18831 non-null  int64  \n",
            " 23  carbon_monoxide_detector              18831 non-null  int64  \n",
            " 24  shampoo                               18831 non-null  int64  \n",
            " 25  property_type_Condominium             18831 non-null  int64  \n",
            " 26  property_type_House                   18831 non-null  int64  \n",
            " 27  property_type_Loft                    18831 non-null  int64  \n",
            " 28  property_type_Other                   18831 non-null  int64  \n",
            " 29  property_type_Townhouse               18831 non-null  int64  \n",
            " 30  room_type_Private room                18831 non-null  int64  \n",
            " 31  room_type_Shared room                 18831 non-null  int64  \n",
            " 32  cancellation_policy_moderate          18831 non-null  int64  \n",
            " 33  cancellation_policy_strict            18831 non-null  int64  \n",
            " 34  neighbourhood_group_Low Frequency     18831 non-null  int64  \n",
            " 35  neighbourhood_group_Medium Frequency  18831 non-null  int64  \n",
            " 36  rating_bucket                         18831 non-null  int64  \n",
            " 37  text                                  18831 non-null  object \n",
            "dtypes: float64(10), int64(27), object(1)\n",
            "memory usage: 5.6+ MB\n"
          ]
        }
      ]
    },
    {
      "cell_type": "code",
      "source": [
        "from google.colab import files\n",
        "\n",
        "# Save the DataFrame to a CSV file\n",
        "df_nyc.to_csv('df_clean.csv', index=False)\n",
        "\n",
        "# Download the CSV file to your laptop\n",
        "files.download('df_clean.csv')"
      ],
      "metadata": {
        "colab": {
          "base_uri": "https://localhost:8080/",
          "height": 34
        },
        "id": "xiRvvG4yXC_k",
        "outputId": "4161332b-400e-41b5-b67e-efef8f0e2c70"
      },
      "id": "xiRvvG4yXC_k",
      "execution_count": null,
      "outputs": [
        {
          "output_type": "display_data",
          "data": {
            "text/plain": [
              "<IPython.core.display.Javascript object>"
            ],
            "application/javascript": [
              "\n",
              "    async function download(id, filename, size) {\n",
              "      if (!google.colab.kernel.accessAllowed) {\n",
              "        return;\n",
              "      }\n",
              "      const div = document.createElement('div');\n",
              "      const label = document.createElement('label');\n",
              "      label.textContent = `Downloading \"${filename}\": `;\n",
              "      div.appendChild(label);\n",
              "      const progress = document.createElement('progress');\n",
              "      progress.max = size;\n",
              "      div.appendChild(progress);\n",
              "      document.body.appendChild(div);\n",
              "\n",
              "      const buffers = [];\n",
              "      let downloaded = 0;\n",
              "\n",
              "      const channel = await google.colab.kernel.comms.open(id);\n",
              "      // Send a message to notify the kernel that we're ready.\n",
              "      channel.send({})\n",
              "\n",
              "      for await (const message of channel.messages) {\n",
              "        // Send a message to notify the kernel that we're ready.\n",
              "        channel.send({})\n",
              "        if (message.buffers) {\n",
              "          for (const buffer of message.buffers) {\n",
              "            buffers.push(buffer);\n",
              "            downloaded += buffer.byteLength;\n",
              "            progress.value = downloaded;\n",
              "          }\n",
              "        }\n",
              "      }\n",
              "      const blob = new Blob(buffers, {type: 'application/binary'});\n",
              "      const a = document.createElement('a');\n",
              "      a.href = window.URL.createObjectURL(blob);\n",
              "      a.download = filename;\n",
              "      div.appendChild(a);\n",
              "      a.click();\n",
              "      div.remove();\n",
              "    }\n",
              "  "
            ]
          },
          "metadata": {}
        },
        {
          "output_type": "display_data",
          "data": {
            "text/plain": [
              "<IPython.core.display.Javascript object>"
            ],
            "application/javascript": [
              "download(\"download_c8a5f5c6-e58d-43c0-8f1e-79a4299d64cd\", \"df_clean.csv\", 20445756)"
            ]
          },
          "metadata": {}
        }
      ]
    },
    {
      "cell_type": "markdown",
      "id": "eace58f5",
      "metadata": {
        "id": "eace58f5"
      },
      "source": [
        "# Part 10: Model Development"
      ]
    },
    {
      "cell_type": "markdown",
      "source": [
        "## Tabular Data Development"
      ],
      "metadata": {
        "id": "O2wQjFPsHKUr"
      },
      "id": "O2wQjFPsHKUr"
    },
    {
      "cell_type": "code",
      "execution_count": null,
      "id": "e69956fa",
      "metadata": {
        "id": "e69956fa"
      },
      "outputs": [],
      "source": [
        "from sklearn.model_selection import train_test_split\n",
        "\n",
        "X = df_nyc.drop('rating_bucket', axis=1)\n",
        "\n",
        "#Features (exclude the target column)\n",
        "y = df_nyc['rating_bucket']\n",
        "#Target variable\n",
        "#Split into 80% training and 20% testing\n",
        "X_train, X_test, y_train, y_test = train_test_split(X, y, test_size=0.2, random_state=42)"
      ]
    },
    {
      "cell_type": "code",
      "execution_count": null,
      "id": "36b7eac7",
      "metadata": {
        "id": "36b7eac7",
        "outputId": "8a9a65c1-e3f6-48fd-8cec-ade2396a6add",
        "colab": {
          "base_uri": "https://localhost:8080/",
          "height": 339
        }
      },
      "outputs": [
        {
          "output_type": "stream",
          "name": "stdout",
          "text": [
            "Accuracy (Tabular Only): 0.6732147597557738\n",
            "\n",
            "Classification Report:\n",
            "              precision    recall  f1-score   support\n",
            "\n",
            "           0       0.50      0.08      0.13       757\n",
            "           1       0.71      0.88      0.79      1941\n",
            "           2       0.61      0.73      0.67      1069\n",
            "\n",
            "    accuracy                           0.67      3767\n",
            "   macro avg       0.61      0.56      0.53      3767\n",
            "weighted avg       0.64      0.67      0.62      3767\n",
            "\n",
            "Precision (Tabular Only): 0.6076594305132085\n",
            "Recall (Tabular Only): 0.5597992970770181\n",
            "ROC AUC (Tabular Only): 0.8028876309454822\n"
          ]
        },
        {
          "output_type": "execute_result",
          "data": {
            "text/plain": [
              "'\\nmse_tabular = mean_squared_error(y_test, y_pred_tabular)\\nmae_tabular = mean_absolute_error(y_test, y_pred_tabular)\\nr2_tabular = r2_score(y_test, y_pred_tabular)\\n\\nprint(f\"Mean Squared Error (Tabular Only): {mse_tabular}\")\\nprint(f\"Mean Absolute Error (Tabular Only): {mae_tabular}\")\\nprint(f\"R² Score (Tabular Only): {r2_tabular}\")\\n'"
            ],
            "application/vnd.google.colaboratory.intrinsic+json": {
              "type": "string"
            }
          },
          "metadata": {},
          "execution_count": 35
        }
      ],
      "source": [
        "#Prepare data\n",
        "X_train_tabular = X_train.drop(columns=['text'])\n",
        "X_test_tabular = X_test.drop(columns=['text'])\n",
        "\n",
        "#Initialize the XGBoost classifier\n",
        "xgb_tabular = xgb.XGBClassifier(objective='multi:softmax', num_class=3, eta=0.1, max_depth=5, n_estimators=100)\n",
        "\n",
        "#Fit the model\n",
        "xgb_tabular.fit(X_train_tabular, y_train)\n",
        "\n",
        "#Make predictions\n",
        "y_pred_tabular = xgb_tabular.predict(X_test_tabular)\n",
        "accuracy_tabular = accuracy_score(y_test, y_pred_tabular)\n",
        "print(f\"Accuracy (Tabular Only): {accuracy_tabular}\")\n",
        "\n",
        "#Precision, Recall, and Classification Report\n",
        "print(\"\\nClassification Report:\")\n",
        "print(classification_report(y_test, y_pred_tabular))\n",
        "\n",
        "#Compute Precision and Recall (macro-averaged)\n",
        "precision_tabular = precision_score(y_test, y_pred_tabular, average='macro')\n",
        "recall_tabular = recall_score(y_test, y_pred_tabular, average='macro')\n",
        "print(f\"Precision (Tabular Only): {precision_tabular}\")\n",
        "print(f\"Recall (Tabular Only): {recall_tabular}\")\n",
        "\n",
        "#Compute ROC AUC (requires one-hot encoded y_test and probabilities)\n",
        "y_test_binarized = label_binarize(y_test, classes=[0, 1, 2])\n",
        "y_pred_proba = xgb_tabular.predict_proba(X_test_tabular)\n",
        "roc_auc_tabular = roc_auc_score(y_test_binarized, y_pred_proba, multi_class='ovr')\n",
        "print(f\"ROC AUC (Tabular Only): {roc_auc_tabular}\")\n",
        "\n",
        "#Evaluate using regression metrics\n",
        "'''\n",
        "mse_tabular = mean_squared_error(y_test, y_pred_tabular)\n",
        "mae_tabular = mean_absolute_error(y_test, y_pred_tabular)\n",
        "r2_tabular = r2_score(y_test, y_pred_tabular)\n",
        "\n",
        "print(f\"Mean Squared Error (Tabular Only): {mse_tabular}\")\n",
        "print(f\"Mean Absolute Error (Tabular Only): {mae_tabular}\")\n",
        "print(f\"R² Score (Tabular Only): {r2_tabular}\")\n",
        "'''"
      ]
    },
    {
      "cell_type": "markdown",
      "source": [
        "## Text Data Development"
      ],
      "metadata": {
        "id": "Ckqw-s1oHODK"
      },
      "id": "Ckqw-s1oHODK"
    },
    {
      "cell_type": "code",
      "execution_count": null,
      "id": "531eb9ca",
      "metadata": {
        "scrolled": true,
        "id": "531eb9ca",
        "outputId": "d009a15b-e5cc-42af-b9a8-32bc5fef4887",
        "colab": {
          "base_uri": "https://localhost:8080/",
          "height": 1000,
          "referenced_widgets": [
            "9b884eaa1a894149ab2cd5fe499aff0d",
            "9cad093dd73d4d8c8ae8f4b88797cd25",
            "f2f51e9d71a84fbc802871f5699b6fb4",
            "e375c80e90514ac083513d457517e732",
            "a31e51571fa84e649945d5aa99caade6",
            "3ce082ca60294094bde287f33ec2d18c",
            "3ae638df2c4b43d1bcb601668efa4fb5",
            "6c9338bfab9240dfacc810f09af5a3c0",
            "967d550f88094669a4b65253de8a352c",
            "26c4e6aa992d4c9cbe3192cf6f7316e9",
            "4a581b9608194697a43690f295a5763f",
            "52686fb0267d4f4298263265cd14dc22",
            "17dcbad397164d519df310da903b8ef9",
            "18c9903c89f24d139fa04168d86141a5",
            "4647713fe909470882a657ef49ec90d5",
            "1a009d00318f4ee9870837fd6197ffa8",
            "7ae86d5925bb4b118d0f00bf6cc87019",
            "9727976ea06448ffaf911fdedb47055d",
            "8176632d35084b6aad449e8057e61b79",
            "5579788654c843d4b9b829c046b9cea2",
            "b2f05a9167d344f9ba1861c31570bd5e",
            "e5cdc446574e439b973d305167b1ea86",
            "9f5b7d9bf32c47d2bfa1bfdec7307cba",
            "20481b3d5c994efcbbb460625ed4f8d8",
            "33074aa209354e44a7f1719ef1913731",
            "82bcc5392379460e924d48d2706ff3c9",
            "b7620c754cb1489ba1651091136fc449",
            "c87144c741494ae2bbc1502d5177e0b7",
            "2230d7cba7764e748c11911cd96a395b",
            "eb5f48691127469ba8610103e7d7beff",
            "69665e70229d461ea3b231c04d7f5393",
            "f19f4907b1664f3ba25592dac7c71d46",
            "27e69b31cffc49ea9a1786032aed9927",
            "707b9299ab0a4cd084e401b01a8bf789",
            "c6766e72ae0947af841ff0f99e4c0466",
            "a029325639be416483c0cab9af42726c",
            "f5786b5d890d40408135ad84773299ce",
            "bce71d16bf79422fa3910c5ddd4a2c4e",
            "c5d83b43951440ba8603404a2c71a769",
            "cf7d166acc95471ab90f5f770153c6da",
            "8cb54b7caaac498f80b9d0fb45cfc934",
            "3ecd5521bbbd4992bcecad845bb2bc82",
            "fecf47c7f0214fac88aa3d43e59bb16e",
            "7187362817314dbbaf2263b92c2e00c9",
            "b225ba86cdb74d2c95b504b54dedefe4",
            "7cbc9a9f791f49b999bcf60b4bae211e",
            "f4a885b6ddd0442e97f4b8d1ecd5885b",
            "9da227adabd64d1e84338f888564aa30",
            "65fa04045b6b4c9b99bee0ead75941d7",
            "8cc4420bf6434529b7df28f267a0d0a7",
            "b9dc29a6c35e4612a28afc53377e76e6",
            "cc2ce090491e4d148a24f3ea89f5bbc4",
            "5d1d10731db444c58d6996905dbff7b6",
            "a287379b3d5a4bc4b4cd54397e51148b",
            "3eb2f1777e9646fb8b3d932e723ec3c9"
          ]
        }
      },
      "outputs": [
        {
          "output_type": "stream",
          "name": "stderr",
          "text": [
            "/usr/local/lib/python3.10/dist-packages/huggingface_hub/utils/_auth.py:94: UserWarning: \n",
            "The secret `HF_TOKEN` does not exist in your Colab secrets.\n",
            "To authenticate with the Hugging Face Hub, create a token in your settings tab (https://huggingface.co/settings/tokens), set it as secret in your Google Colab and restart your session.\n",
            "You will be able to reuse this secret in all of your notebooks.\n",
            "Please note that authentication is recommended but still optional to access public models or datasets.\n",
            "  warnings.warn(\n"
          ]
        },
        {
          "output_type": "display_data",
          "data": {
            "text/plain": [
              "tokenizer_config.json:   0%|          | 0.00/48.0 [00:00<?, ?B/s]"
            ],
            "application/vnd.jupyter.widget-view+json": {
              "version_major": 2,
              "version_minor": 0,
              "model_id": "9b884eaa1a894149ab2cd5fe499aff0d"
            }
          },
          "metadata": {}
        },
        {
          "output_type": "display_data",
          "data": {
            "text/plain": [
              "vocab.txt:   0%|          | 0.00/232k [00:00<?, ?B/s]"
            ],
            "application/vnd.jupyter.widget-view+json": {
              "version_major": 2,
              "version_minor": 0,
              "model_id": "52686fb0267d4f4298263265cd14dc22"
            }
          },
          "metadata": {}
        },
        {
          "output_type": "display_data",
          "data": {
            "text/plain": [
              "tokenizer.json:   0%|          | 0.00/466k [00:00<?, ?B/s]"
            ],
            "application/vnd.jupyter.widget-view+json": {
              "version_major": 2,
              "version_minor": 0,
              "model_id": "9f5b7d9bf32c47d2bfa1bfdec7307cba"
            }
          },
          "metadata": {}
        },
        {
          "output_type": "display_data",
          "data": {
            "text/plain": [
              "config.json:   0%|          | 0.00/570 [00:00<?, ?B/s]"
            ],
            "application/vnd.jupyter.widget-view+json": {
              "version_major": 2,
              "version_minor": 0,
              "model_id": "707b9299ab0a4cd084e401b01a8bf789"
            }
          },
          "metadata": {}
        },
        {
          "output_type": "display_data",
          "data": {
            "text/plain": [
              "model.safetensors:   0%|          | 0.00/440M [00:00<?, ?B/s]"
            ],
            "application/vnd.jupyter.widget-view+json": {
              "version_major": 2,
              "version_minor": 0,
              "model_id": "b225ba86cdb74d2c95b504b54dedefe4"
            }
          },
          "metadata": {}
        },
        {
          "output_type": "execute_result",
          "data": {
            "text/plain": [
              "BertModel(\n",
              "  (embeddings): BertEmbeddings(\n",
              "    (word_embeddings): Embedding(30522, 768, padding_idx=0)\n",
              "    (position_embeddings): Embedding(512, 768)\n",
              "    (token_type_embeddings): Embedding(2, 768)\n",
              "    (LayerNorm): LayerNorm((768,), eps=1e-12, elementwise_affine=True)\n",
              "    (dropout): Dropout(p=0.1, inplace=False)\n",
              "  )\n",
              "  (encoder): BertEncoder(\n",
              "    (layer): ModuleList(\n",
              "      (0-11): 12 x BertLayer(\n",
              "        (attention): BertAttention(\n",
              "          (self): BertSdpaSelfAttention(\n",
              "            (query): Linear(in_features=768, out_features=768, bias=True)\n",
              "            (key): Linear(in_features=768, out_features=768, bias=True)\n",
              "            (value): Linear(in_features=768, out_features=768, bias=True)\n",
              "            (dropout): Dropout(p=0.1, inplace=False)\n",
              "          )\n",
              "          (output): BertSelfOutput(\n",
              "            (dense): Linear(in_features=768, out_features=768, bias=True)\n",
              "            (LayerNorm): LayerNorm((768,), eps=1e-12, elementwise_affine=True)\n",
              "            (dropout): Dropout(p=0.1, inplace=False)\n",
              "          )\n",
              "        )\n",
              "        (intermediate): BertIntermediate(\n",
              "          (dense): Linear(in_features=768, out_features=3072, bias=True)\n",
              "          (intermediate_act_fn): GELUActivation()\n",
              "        )\n",
              "        (output): BertOutput(\n",
              "          (dense): Linear(in_features=3072, out_features=768, bias=True)\n",
              "          (LayerNorm): LayerNorm((768,), eps=1e-12, elementwise_affine=True)\n",
              "          (dropout): Dropout(p=0.1, inplace=False)\n",
              "        )\n",
              "      )\n",
              "    )\n",
              "  )\n",
              "  (pooler): BertPooler(\n",
              "    (dense): Linear(in_features=768, out_features=768, bias=True)\n",
              "    (activation): Tanh()\n",
              "  )\n",
              ")"
            ]
          },
          "metadata": {},
          "execution_count": 36
        }
      ],
      "source": [
        "#Testing textual analysis\n",
        "import torch\n",
        "from transformers import BertTokenizer, BertModel\n",
        "from tqdm import tqdm\n",
        "\n",
        "# Initialize BERT tokenizer and model\n",
        "tokenizer = BertTokenizer.from_pretrained('bert-base-uncased')\n",
        "bert_model = BertModel.from_pretrained('bert-base-uncased')\n",
        "\n",
        "device = torch.device('cuda' if torch.cuda.is_available() else 'cpu')\n",
        "bert_model.to(device)\n",
        "\n"
      ]
    },
    {
      "cell_type": "code",
      "execution_count": null,
      "id": "3a86dcd9",
      "metadata": {
        "id": "3a86dcd9"
      },
      "outputs": [],
      "source": [
        "# Function to extract BERT embeddings\n",
        "def get_bert_embeddings(texts, tokenizer, bert_model):\n",
        "    inputs = tokenizer(texts, return_tensors='pt', padding=True, truncation=True, max_length=512)\n",
        "    # Move inputs to GPU\n",
        "    inputs = {key: val.to(device) for key, val in inputs.items()}\n",
        "\n",
        "    bert_model.eval()\n",
        "    outputs = bert_model(inputs['input_ids'])\n",
        "    # Use the mean of the last hidden state as the embeddings\n",
        "    return np.mean(outputs.last_hidden_state.detach().cpu().numpy(), axis=1).squeeze()\n",
        "\n"
      ]
    },
    {
      "cell_type": "code",
      "execution_count": null,
      "id": "f3e14ea5",
      "metadata": {
        "id": "f3e14ea5"
      },
      "outputs": [],
      "source": [
        "def create_embeddings(df):\n",
        "    \"\"\"\n",
        "    Parameters::\n",
        "        df: DataFrame with a column named \"text\"\n",
        "\n",
        "    Returns::\n",
        "        emb_df: DataFrame with 768 columns; each row contains the embeddings for the text in the corresponding row of df.\n",
        "    \"\"\"\n",
        "    embeddings = []\n",
        "\n",
        "    # Loop through the rows of the dataframe. Pass the text through the bert model and get embeddings using the get_bert_embeddings function\n",
        "    for i in tqdm(range(0, df.shape[0])):\n",
        "        text = df['text'].iloc[i] # TODO\n",
        "        full_embedding = get_bert_embeddings(texts = text, tokenizer= tokenizer, bert_model= bert_model) # TODO\n",
        "        embeddings.append(full_embedding) # TODO (or = full_embedding?)\n",
        "\n",
        "    emb_df =  pd.DataFrame(np.array(embeddings), columns=[f\"emb_{i}\" for i in range(768)])\n",
        "\n",
        "    emb_df = emb_df.set_index(df.index)\n",
        "\n",
        "    return emb_df"
      ]
    },
    {
      "cell_type": "code",
      "execution_count": null,
      "id": "15915fb5",
      "metadata": {
        "id": "15915fb5",
        "outputId": "04a2f883-a0dd-4dd0-8753-0ac41ad278d1",
        "colab": {
          "base_uri": "https://localhost:8080/"
        }
      },
      "outputs": [
        {
          "output_type": "stream",
          "name": "stderr",
          "text": [
            "100%|██████████| 15064/15064 [04:18<00:00, 58.28it/s]\n",
            "100%|██████████| 3767/3767 [01:03<00:00, 59.25it/s]\n"
          ]
        },
        {
          "output_type": "stream",
          "name": "stdout",
          "text": [
            "Accuracy (Text Only): 0.5261481284842049\n"
          ]
        }
      ],
      "source": [
        "#Apply BERT embeddings on train and test text data\n",
        "X_train_text_bert = create_embeddings(X_train)\n",
        "X_test_text_bert = create_embeddings(X_test)\n",
        "\n",
        "### Step 3: XGBoost on Text Data Only ###\n",
        "\n",
        "#XGBoost on text data\n",
        "xgb_text = xgb.XGBClassifier(objective='multi:softmax', num_class=3, eta=0.1, max_depth = 5, n_estimators=100)\n",
        "\n",
        "#Fit the model\n",
        "xgb_text.fit(X_train_text_bert, y_train)\n",
        "\n",
        "#Evaluate on test set\n",
        "y_pred_text = xgb_text.predict(X_test_text_bert)\n",
        "accuracy_text = accuracy_score(y_test, y_pred_text)\n",
        "print(f\"Accuracy (Text Only): {accuracy_text}\")"
      ]
    },
    {
      "cell_type": "code",
      "execution_count": null,
      "id": "0bca7de2",
      "metadata": {
        "id": "0bca7de2"
      },
      "outputs": [],
      "source": [
        "#df_nyc.to_csv('df_nyc.csv', index=False)"
      ]
    },
    {
      "cell_type": "code",
      "source": [
        "#Combine tabular features and BERT embeddings\n",
        "X_combined = pd.concat([X_train_tabular, X_train_text_bert], axis = 1)\n",
        "X_combined_test = pd.concat([X_test_tabular, X_test_text_bert], axis = 1)\n",
        "\n",
        "#XGBoost on combined data\n",
        "xgb_combined = xgb.XGBClassifier(objective='multi:softmax', num_class=3, eta=0.1, max_depth = 5, n_estimators=100)\n",
        "\n",
        "#Fit the model\n",
        "xgb_combined.fit(X_combined, y_train)\n",
        "\n",
        "#Evaluate on test set\n",
        "y_pred_combined = xgb_combined.predict(X_combined_test)\n",
        "accuracy_combined = accuracy_score(y_test, y_pred_combined)\n",
        "print(f\"Accuracy (Combined): {accuracy_combined}\")"
      ],
      "metadata": {
        "id": "PtZ-L_q6dku8",
        "colab": {
          "base_uri": "https://localhost:8080/"
        },
        "outputId": "aee539e7-eb98-4fde-d836-435cfb3219e8"
      },
      "id": "PtZ-L_q6dku8",
      "execution_count": null,
      "outputs": [
        {
          "output_type": "stream",
          "name": "stdout",
          "text": [
            "Accuracy (Combined): 0.6710910538890363\n"
          ]
        }
      ]
    }
  ],
  "metadata": {
    "kernelspec": {
      "display_name": "Python 3",
      "name": "python3"
    },
    "language_info": {
      "codemirror_mode": {
        "name": "ipython",
        "version": 3
      },
      "file_extension": ".py",
      "mimetype": "text/x-python",
      "name": "python",
      "nbconvert_exporter": "python",
      "pygments_lexer": "ipython3",
      "version": "3.8.17"
    },
    "colab": {
      "provenance": [],
      "machine_shape": "hm"
    },
    "widgets": {
      "application/vnd.jupyter.widget-state+json": {
        "9b884eaa1a894149ab2cd5fe499aff0d": {
          "model_module": "@jupyter-widgets/controls",
          "model_name": "HBoxModel",
          "model_module_version": "1.5.0",
          "state": {
            "_dom_classes": [],
            "_model_module": "@jupyter-widgets/controls",
            "_model_module_version": "1.5.0",
            "_model_name": "HBoxModel",
            "_view_count": null,
            "_view_module": "@jupyter-widgets/controls",
            "_view_module_version": "1.5.0",
            "_view_name": "HBoxView",
            "box_style": "",
            "children": [
              "IPY_MODEL_9cad093dd73d4d8c8ae8f4b88797cd25",
              "IPY_MODEL_f2f51e9d71a84fbc802871f5699b6fb4",
              "IPY_MODEL_e375c80e90514ac083513d457517e732"
            ],
            "layout": "IPY_MODEL_a31e51571fa84e649945d5aa99caade6"
          }
        },
        "9cad093dd73d4d8c8ae8f4b88797cd25": {
          "model_module": "@jupyter-widgets/controls",
          "model_name": "HTMLModel",
          "model_module_version": "1.5.0",
          "state": {
            "_dom_classes": [],
            "_model_module": "@jupyter-widgets/controls",
            "_model_module_version": "1.5.0",
            "_model_name": "HTMLModel",
            "_view_count": null,
            "_view_module": "@jupyter-widgets/controls",
            "_view_module_version": "1.5.0",
            "_view_name": "HTMLView",
            "description": "",
            "description_tooltip": null,
            "layout": "IPY_MODEL_3ce082ca60294094bde287f33ec2d18c",
            "placeholder": "​",
            "style": "IPY_MODEL_3ae638df2c4b43d1bcb601668efa4fb5",
            "value": "tokenizer_config.json: 100%"
          }
        },
        "f2f51e9d71a84fbc802871f5699b6fb4": {
          "model_module": "@jupyter-widgets/controls",
          "model_name": "FloatProgressModel",
          "model_module_version": "1.5.0",
          "state": {
            "_dom_classes": [],
            "_model_module": "@jupyter-widgets/controls",
            "_model_module_version": "1.5.0",
            "_model_name": "FloatProgressModel",
            "_view_count": null,
            "_view_module": "@jupyter-widgets/controls",
            "_view_module_version": "1.5.0",
            "_view_name": "ProgressView",
            "bar_style": "success",
            "description": "",
            "description_tooltip": null,
            "layout": "IPY_MODEL_6c9338bfab9240dfacc810f09af5a3c0",
            "max": 48,
            "min": 0,
            "orientation": "horizontal",
            "style": "IPY_MODEL_967d550f88094669a4b65253de8a352c",
            "value": 48
          }
        },
        "e375c80e90514ac083513d457517e732": {
          "model_module": "@jupyter-widgets/controls",
          "model_name": "HTMLModel",
          "model_module_version": "1.5.0",
          "state": {
            "_dom_classes": [],
            "_model_module": "@jupyter-widgets/controls",
            "_model_module_version": "1.5.0",
            "_model_name": "HTMLModel",
            "_view_count": null,
            "_view_module": "@jupyter-widgets/controls",
            "_view_module_version": "1.5.0",
            "_view_name": "HTMLView",
            "description": "",
            "description_tooltip": null,
            "layout": "IPY_MODEL_26c4e6aa992d4c9cbe3192cf6f7316e9",
            "placeholder": "​",
            "style": "IPY_MODEL_4a581b9608194697a43690f295a5763f",
            "value": " 48.0/48.0 [00:00&lt;00:00, 3.68kB/s]"
          }
        },
        "a31e51571fa84e649945d5aa99caade6": {
          "model_module": "@jupyter-widgets/base",
          "model_name": "LayoutModel",
          "model_module_version": "1.2.0",
          "state": {
            "_model_module": "@jupyter-widgets/base",
            "_model_module_version": "1.2.0",
            "_model_name": "LayoutModel",
            "_view_count": null,
            "_view_module": "@jupyter-widgets/base",
            "_view_module_version": "1.2.0",
            "_view_name": "LayoutView",
            "align_content": null,
            "align_items": null,
            "align_self": null,
            "border": null,
            "bottom": null,
            "display": null,
            "flex": null,
            "flex_flow": null,
            "grid_area": null,
            "grid_auto_columns": null,
            "grid_auto_flow": null,
            "grid_auto_rows": null,
            "grid_column": null,
            "grid_gap": null,
            "grid_row": null,
            "grid_template_areas": null,
            "grid_template_columns": null,
            "grid_template_rows": null,
            "height": null,
            "justify_content": null,
            "justify_items": null,
            "left": null,
            "margin": null,
            "max_height": null,
            "max_width": null,
            "min_height": null,
            "min_width": null,
            "object_fit": null,
            "object_position": null,
            "order": null,
            "overflow": null,
            "overflow_x": null,
            "overflow_y": null,
            "padding": null,
            "right": null,
            "top": null,
            "visibility": null,
            "width": null
          }
        },
        "3ce082ca60294094bde287f33ec2d18c": {
          "model_module": "@jupyter-widgets/base",
          "model_name": "LayoutModel",
          "model_module_version": "1.2.0",
          "state": {
            "_model_module": "@jupyter-widgets/base",
            "_model_module_version": "1.2.0",
            "_model_name": "LayoutModel",
            "_view_count": null,
            "_view_module": "@jupyter-widgets/base",
            "_view_module_version": "1.2.0",
            "_view_name": "LayoutView",
            "align_content": null,
            "align_items": null,
            "align_self": null,
            "border": null,
            "bottom": null,
            "display": null,
            "flex": null,
            "flex_flow": null,
            "grid_area": null,
            "grid_auto_columns": null,
            "grid_auto_flow": null,
            "grid_auto_rows": null,
            "grid_column": null,
            "grid_gap": null,
            "grid_row": null,
            "grid_template_areas": null,
            "grid_template_columns": null,
            "grid_template_rows": null,
            "height": null,
            "justify_content": null,
            "justify_items": null,
            "left": null,
            "margin": null,
            "max_height": null,
            "max_width": null,
            "min_height": null,
            "min_width": null,
            "object_fit": null,
            "object_position": null,
            "order": null,
            "overflow": null,
            "overflow_x": null,
            "overflow_y": null,
            "padding": null,
            "right": null,
            "top": null,
            "visibility": null,
            "width": null
          }
        },
        "3ae638df2c4b43d1bcb601668efa4fb5": {
          "model_module": "@jupyter-widgets/controls",
          "model_name": "DescriptionStyleModel",
          "model_module_version": "1.5.0",
          "state": {
            "_model_module": "@jupyter-widgets/controls",
            "_model_module_version": "1.5.0",
            "_model_name": "DescriptionStyleModel",
            "_view_count": null,
            "_view_module": "@jupyter-widgets/base",
            "_view_module_version": "1.2.0",
            "_view_name": "StyleView",
            "description_width": ""
          }
        },
        "6c9338bfab9240dfacc810f09af5a3c0": {
          "model_module": "@jupyter-widgets/base",
          "model_name": "LayoutModel",
          "model_module_version": "1.2.0",
          "state": {
            "_model_module": "@jupyter-widgets/base",
            "_model_module_version": "1.2.0",
            "_model_name": "LayoutModel",
            "_view_count": null,
            "_view_module": "@jupyter-widgets/base",
            "_view_module_version": "1.2.0",
            "_view_name": "LayoutView",
            "align_content": null,
            "align_items": null,
            "align_self": null,
            "border": null,
            "bottom": null,
            "display": null,
            "flex": null,
            "flex_flow": null,
            "grid_area": null,
            "grid_auto_columns": null,
            "grid_auto_flow": null,
            "grid_auto_rows": null,
            "grid_column": null,
            "grid_gap": null,
            "grid_row": null,
            "grid_template_areas": null,
            "grid_template_columns": null,
            "grid_template_rows": null,
            "height": null,
            "justify_content": null,
            "justify_items": null,
            "left": null,
            "margin": null,
            "max_height": null,
            "max_width": null,
            "min_height": null,
            "min_width": null,
            "object_fit": null,
            "object_position": null,
            "order": null,
            "overflow": null,
            "overflow_x": null,
            "overflow_y": null,
            "padding": null,
            "right": null,
            "top": null,
            "visibility": null,
            "width": null
          }
        },
        "967d550f88094669a4b65253de8a352c": {
          "model_module": "@jupyter-widgets/controls",
          "model_name": "ProgressStyleModel",
          "model_module_version": "1.5.0",
          "state": {
            "_model_module": "@jupyter-widgets/controls",
            "_model_module_version": "1.5.0",
            "_model_name": "ProgressStyleModel",
            "_view_count": null,
            "_view_module": "@jupyter-widgets/base",
            "_view_module_version": "1.2.0",
            "_view_name": "StyleView",
            "bar_color": null,
            "description_width": ""
          }
        },
        "26c4e6aa992d4c9cbe3192cf6f7316e9": {
          "model_module": "@jupyter-widgets/base",
          "model_name": "LayoutModel",
          "model_module_version": "1.2.0",
          "state": {
            "_model_module": "@jupyter-widgets/base",
            "_model_module_version": "1.2.0",
            "_model_name": "LayoutModel",
            "_view_count": null,
            "_view_module": "@jupyter-widgets/base",
            "_view_module_version": "1.2.0",
            "_view_name": "LayoutView",
            "align_content": null,
            "align_items": null,
            "align_self": null,
            "border": null,
            "bottom": null,
            "display": null,
            "flex": null,
            "flex_flow": null,
            "grid_area": null,
            "grid_auto_columns": null,
            "grid_auto_flow": null,
            "grid_auto_rows": null,
            "grid_column": null,
            "grid_gap": null,
            "grid_row": null,
            "grid_template_areas": null,
            "grid_template_columns": null,
            "grid_template_rows": null,
            "height": null,
            "justify_content": null,
            "justify_items": null,
            "left": null,
            "margin": null,
            "max_height": null,
            "max_width": null,
            "min_height": null,
            "min_width": null,
            "object_fit": null,
            "object_position": null,
            "order": null,
            "overflow": null,
            "overflow_x": null,
            "overflow_y": null,
            "padding": null,
            "right": null,
            "top": null,
            "visibility": null,
            "width": null
          }
        },
        "4a581b9608194697a43690f295a5763f": {
          "model_module": "@jupyter-widgets/controls",
          "model_name": "DescriptionStyleModel",
          "model_module_version": "1.5.0",
          "state": {
            "_model_module": "@jupyter-widgets/controls",
            "_model_module_version": "1.5.0",
            "_model_name": "DescriptionStyleModel",
            "_view_count": null,
            "_view_module": "@jupyter-widgets/base",
            "_view_module_version": "1.2.0",
            "_view_name": "StyleView",
            "description_width": ""
          }
        },
        "52686fb0267d4f4298263265cd14dc22": {
          "model_module": "@jupyter-widgets/controls",
          "model_name": "HBoxModel",
          "model_module_version": "1.5.0",
          "state": {
            "_dom_classes": [],
            "_model_module": "@jupyter-widgets/controls",
            "_model_module_version": "1.5.0",
            "_model_name": "HBoxModel",
            "_view_count": null,
            "_view_module": "@jupyter-widgets/controls",
            "_view_module_version": "1.5.0",
            "_view_name": "HBoxView",
            "box_style": "",
            "children": [
              "IPY_MODEL_17dcbad397164d519df310da903b8ef9",
              "IPY_MODEL_18c9903c89f24d139fa04168d86141a5",
              "IPY_MODEL_4647713fe909470882a657ef49ec90d5"
            ],
            "layout": "IPY_MODEL_1a009d00318f4ee9870837fd6197ffa8"
          }
        },
        "17dcbad397164d519df310da903b8ef9": {
          "model_module": "@jupyter-widgets/controls",
          "model_name": "HTMLModel",
          "model_module_version": "1.5.0",
          "state": {
            "_dom_classes": [],
            "_model_module": "@jupyter-widgets/controls",
            "_model_module_version": "1.5.0",
            "_model_name": "HTMLModel",
            "_view_count": null,
            "_view_module": "@jupyter-widgets/controls",
            "_view_module_version": "1.5.0",
            "_view_name": "HTMLView",
            "description": "",
            "description_tooltip": null,
            "layout": "IPY_MODEL_7ae86d5925bb4b118d0f00bf6cc87019",
            "placeholder": "​",
            "style": "IPY_MODEL_9727976ea06448ffaf911fdedb47055d",
            "value": "vocab.txt: 100%"
          }
        },
        "18c9903c89f24d139fa04168d86141a5": {
          "model_module": "@jupyter-widgets/controls",
          "model_name": "FloatProgressModel",
          "model_module_version": "1.5.0",
          "state": {
            "_dom_classes": [],
            "_model_module": "@jupyter-widgets/controls",
            "_model_module_version": "1.5.0",
            "_model_name": "FloatProgressModel",
            "_view_count": null,
            "_view_module": "@jupyter-widgets/controls",
            "_view_module_version": "1.5.0",
            "_view_name": "ProgressView",
            "bar_style": "success",
            "description": "",
            "description_tooltip": null,
            "layout": "IPY_MODEL_8176632d35084b6aad449e8057e61b79",
            "max": 231508,
            "min": 0,
            "orientation": "horizontal",
            "style": "IPY_MODEL_5579788654c843d4b9b829c046b9cea2",
            "value": 231508
          }
        },
        "4647713fe909470882a657ef49ec90d5": {
          "model_module": "@jupyter-widgets/controls",
          "model_name": "HTMLModel",
          "model_module_version": "1.5.0",
          "state": {
            "_dom_classes": [],
            "_model_module": "@jupyter-widgets/controls",
            "_model_module_version": "1.5.0",
            "_model_name": "HTMLModel",
            "_view_count": null,
            "_view_module": "@jupyter-widgets/controls",
            "_view_module_version": "1.5.0",
            "_view_name": "HTMLView",
            "description": "",
            "description_tooltip": null,
            "layout": "IPY_MODEL_b2f05a9167d344f9ba1861c31570bd5e",
            "placeholder": "​",
            "style": "IPY_MODEL_e5cdc446574e439b973d305167b1ea86",
            "value": " 232k/232k [00:00&lt;00:00, 12.9MB/s]"
          }
        },
        "1a009d00318f4ee9870837fd6197ffa8": {
          "model_module": "@jupyter-widgets/base",
          "model_name": "LayoutModel",
          "model_module_version": "1.2.0",
          "state": {
            "_model_module": "@jupyter-widgets/base",
            "_model_module_version": "1.2.0",
            "_model_name": "LayoutModel",
            "_view_count": null,
            "_view_module": "@jupyter-widgets/base",
            "_view_module_version": "1.2.0",
            "_view_name": "LayoutView",
            "align_content": null,
            "align_items": null,
            "align_self": null,
            "border": null,
            "bottom": null,
            "display": null,
            "flex": null,
            "flex_flow": null,
            "grid_area": null,
            "grid_auto_columns": null,
            "grid_auto_flow": null,
            "grid_auto_rows": null,
            "grid_column": null,
            "grid_gap": null,
            "grid_row": null,
            "grid_template_areas": null,
            "grid_template_columns": null,
            "grid_template_rows": null,
            "height": null,
            "justify_content": null,
            "justify_items": null,
            "left": null,
            "margin": null,
            "max_height": null,
            "max_width": null,
            "min_height": null,
            "min_width": null,
            "object_fit": null,
            "object_position": null,
            "order": null,
            "overflow": null,
            "overflow_x": null,
            "overflow_y": null,
            "padding": null,
            "right": null,
            "top": null,
            "visibility": null,
            "width": null
          }
        },
        "7ae86d5925bb4b118d0f00bf6cc87019": {
          "model_module": "@jupyter-widgets/base",
          "model_name": "LayoutModel",
          "model_module_version": "1.2.0",
          "state": {
            "_model_module": "@jupyter-widgets/base",
            "_model_module_version": "1.2.0",
            "_model_name": "LayoutModel",
            "_view_count": null,
            "_view_module": "@jupyter-widgets/base",
            "_view_module_version": "1.2.0",
            "_view_name": "LayoutView",
            "align_content": null,
            "align_items": null,
            "align_self": null,
            "border": null,
            "bottom": null,
            "display": null,
            "flex": null,
            "flex_flow": null,
            "grid_area": null,
            "grid_auto_columns": null,
            "grid_auto_flow": null,
            "grid_auto_rows": null,
            "grid_column": null,
            "grid_gap": null,
            "grid_row": null,
            "grid_template_areas": null,
            "grid_template_columns": null,
            "grid_template_rows": null,
            "height": null,
            "justify_content": null,
            "justify_items": null,
            "left": null,
            "margin": null,
            "max_height": null,
            "max_width": null,
            "min_height": null,
            "min_width": null,
            "object_fit": null,
            "object_position": null,
            "order": null,
            "overflow": null,
            "overflow_x": null,
            "overflow_y": null,
            "padding": null,
            "right": null,
            "top": null,
            "visibility": null,
            "width": null
          }
        },
        "9727976ea06448ffaf911fdedb47055d": {
          "model_module": "@jupyter-widgets/controls",
          "model_name": "DescriptionStyleModel",
          "model_module_version": "1.5.0",
          "state": {
            "_model_module": "@jupyter-widgets/controls",
            "_model_module_version": "1.5.0",
            "_model_name": "DescriptionStyleModel",
            "_view_count": null,
            "_view_module": "@jupyter-widgets/base",
            "_view_module_version": "1.2.0",
            "_view_name": "StyleView",
            "description_width": ""
          }
        },
        "8176632d35084b6aad449e8057e61b79": {
          "model_module": "@jupyter-widgets/base",
          "model_name": "LayoutModel",
          "model_module_version": "1.2.0",
          "state": {
            "_model_module": "@jupyter-widgets/base",
            "_model_module_version": "1.2.0",
            "_model_name": "LayoutModel",
            "_view_count": null,
            "_view_module": "@jupyter-widgets/base",
            "_view_module_version": "1.2.0",
            "_view_name": "LayoutView",
            "align_content": null,
            "align_items": null,
            "align_self": null,
            "border": null,
            "bottom": null,
            "display": null,
            "flex": null,
            "flex_flow": null,
            "grid_area": null,
            "grid_auto_columns": null,
            "grid_auto_flow": null,
            "grid_auto_rows": null,
            "grid_column": null,
            "grid_gap": null,
            "grid_row": null,
            "grid_template_areas": null,
            "grid_template_columns": null,
            "grid_template_rows": null,
            "height": null,
            "justify_content": null,
            "justify_items": null,
            "left": null,
            "margin": null,
            "max_height": null,
            "max_width": null,
            "min_height": null,
            "min_width": null,
            "object_fit": null,
            "object_position": null,
            "order": null,
            "overflow": null,
            "overflow_x": null,
            "overflow_y": null,
            "padding": null,
            "right": null,
            "top": null,
            "visibility": null,
            "width": null
          }
        },
        "5579788654c843d4b9b829c046b9cea2": {
          "model_module": "@jupyter-widgets/controls",
          "model_name": "ProgressStyleModel",
          "model_module_version": "1.5.0",
          "state": {
            "_model_module": "@jupyter-widgets/controls",
            "_model_module_version": "1.5.0",
            "_model_name": "ProgressStyleModel",
            "_view_count": null,
            "_view_module": "@jupyter-widgets/base",
            "_view_module_version": "1.2.0",
            "_view_name": "StyleView",
            "bar_color": null,
            "description_width": ""
          }
        },
        "b2f05a9167d344f9ba1861c31570bd5e": {
          "model_module": "@jupyter-widgets/base",
          "model_name": "LayoutModel",
          "model_module_version": "1.2.0",
          "state": {
            "_model_module": "@jupyter-widgets/base",
            "_model_module_version": "1.2.0",
            "_model_name": "LayoutModel",
            "_view_count": null,
            "_view_module": "@jupyter-widgets/base",
            "_view_module_version": "1.2.0",
            "_view_name": "LayoutView",
            "align_content": null,
            "align_items": null,
            "align_self": null,
            "border": null,
            "bottom": null,
            "display": null,
            "flex": null,
            "flex_flow": null,
            "grid_area": null,
            "grid_auto_columns": null,
            "grid_auto_flow": null,
            "grid_auto_rows": null,
            "grid_column": null,
            "grid_gap": null,
            "grid_row": null,
            "grid_template_areas": null,
            "grid_template_columns": null,
            "grid_template_rows": null,
            "height": null,
            "justify_content": null,
            "justify_items": null,
            "left": null,
            "margin": null,
            "max_height": null,
            "max_width": null,
            "min_height": null,
            "min_width": null,
            "object_fit": null,
            "object_position": null,
            "order": null,
            "overflow": null,
            "overflow_x": null,
            "overflow_y": null,
            "padding": null,
            "right": null,
            "top": null,
            "visibility": null,
            "width": null
          }
        },
        "e5cdc446574e439b973d305167b1ea86": {
          "model_module": "@jupyter-widgets/controls",
          "model_name": "DescriptionStyleModel",
          "model_module_version": "1.5.0",
          "state": {
            "_model_module": "@jupyter-widgets/controls",
            "_model_module_version": "1.5.0",
            "_model_name": "DescriptionStyleModel",
            "_view_count": null,
            "_view_module": "@jupyter-widgets/base",
            "_view_module_version": "1.2.0",
            "_view_name": "StyleView",
            "description_width": ""
          }
        },
        "9f5b7d9bf32c47d2bfa1bfdec7307cba": {
          "model_module": "@jupyter-widgets/controls",
          "model_name": "HBoxModel",
          "model_module_version": "1.5.0",
          "state": {
            "_dom_classes": [],
            "_model_module": "@jupyter-widgets/controls",
            "_model_module_version": "1.5.0",
            "_model_name": "HBoxModel",
            "_view_count": null,
            "_view_module": "@jupyter-widgets/controls",
            "_view_module_version": "1.5.0",
            "_view_name": "HBoxView",
            "box_style": "",
            "children": [
              "IPY_MODEL_20481b3d5c994efcbbb460625ed4f8d8",
              "IPY_MODEL_33074aa209354e44a7f1719ef1913731",
              "IPY_MODEL_82bcc5392379460e924d48d2706ff3c9"
            ],
            "layout": "IPY_MODEL_b7620c754cb1489ba1651091136fc449"
          }
        },
        "20481b3d5c994efcbbb460625ed4f8d8": {
          "model_module": "@jupyter-widgets/controls",
          "model_name": "HTMLModel",
          "model_module_version": "1.5.0",
          "state": {
            "_dom_classes": [],
            "_model_module": "@jupyter-widgets/controls",
            "_model_module_version": "1.5.0",
            "_model_name": "HTMLModel",
            "_view_count": null,
            "_view_module": "@jupyter-widgets/controls",
            "_view_module_version": "1.5.0",
            "_view_name": "HTMLView",
            "description": "",
            "description_tooltip": null,
            "layout": "IPY_MODEL_c87144c741494ae2bbc1502d5177e0b7",
            "placeholder": "​",
            "style": "IPY_MODEL_2230d7cba7764e748c11911cd96a395b",
            "value": "tokenizer.json: 100%"
          }
        },
        "33074aa209354e44a7f1719ef1913731": {
          "model_module": "@jupyter-widgets/controls",
          "model_name": "FloatProgressModel",
          "model_module_version": "1.5.0",
          "state": {
            "_dom_classes": [],
            "_model_module": "@jupyter-widgets/controls",
            "_model_module_version": "1.5.0",
            "_model_name": "FloatProgressModel",
            "_view_count": null,
            "_view_module": "@jupyter-widgets/controls",
            "_view_module_version": "1.5.0",
            "_view_name": "ProgressView",
            "bar_style": "success",
            "description": "",
            "description_tooltip": null,
            "layout": "IPY_MODEL_eb5f48691127469ba8610103e7d7beff",
            "max": 466062,
            "min": 0,
            "orientation": "horizontal",
            "style": "IPY_MODEL_69665e70229d461ea3b231c04d7f5393",
            "value": 466062
          }
        },
        "82bcc5392379460e924d48d2706ff3c9": {
          "model_module": "@jupyter-widgets/controls",
          "model_name": "HTMLModel",
          "model_module_version": "1.5.0",
          "state": {
            "_dom_classes": [],
            "_model_module": "@jupyter-widgets/controls",
            "_model_module_version": "1.5.0",
            "_model_name": "HTMLModel",
            "_view_count": null,
            "_view_module": "@jupyter-widgets/controls",
            "_view_module_version": "1.5.0",
            "_view_name": "HTMLView",
            "description": "",
            "description_tooltip": null,
            "layout": "IPY_MODEL_f19f4907b1664f3ba25592dac7c71d46",
            "placeholder": "​",
            "style": "IPY_MODEL_27e69b31cffc49ea9a1786032aed9927",
            "value": " 466k/466k [00:00&lt;00:00, 29.2MB/s]"
          }
        },
        "b7620c754cb1489ba1651091136fc449": {
          "model_module": "@jupyter-widgets/base",
          "model_name": "LayoutModel",
          "model_module_version": "1.2.0",
          "state": {
            "_model_module": "@jupyter-widgets/base",
            "_model_module_version": "1.2.0",
            "_model_name": "LayoutModel",
            "_view_count": null,
            "_view_module": "@jupyter-widgets/base",
            "_view_module_version": "1.2.0",
            "_view_name": "LayoutView",
            "align_content": null,
            "align_items": null,
            "align_self": null,
            "border": null,
            "bottom": null,
            "display": null,
            "flex": null,
            "flex_flow": null,
            "grid_area": null,
            "grid_auto_columns": null,
            "grid_auto_flow": null,
            "grid_auto_rows": null,
            "grid_column": null,
            "grid_gap": null,
            "grid_row": null,
            "grid_template_areas": null,
            "grid_template_columns": null,
            "grid_template_rows": null,
            "height": null,
            "justify_content": null,
            "justify_items": null,
            "left": null,
            "margin": null,
            "max_height": null,
            "max_width": null,
            "min_height": null,
            "min_width": null,
            "object_fit": null,
            "object_position": null,
            "order": null,
            "overflow": null,
            "overflow_x": null,
            "overflow_y": null,
            "padding": null,
            "right": null,
            "top": null,
            "visibility": null,
            "width": null
          }
        },
        "c87144c741494ae2bbc1502d5177e0b7": {
          "model_module": "@jupyter-widgets/base",
          "model_name": "LayoutModel",
          "model_module_version": "1.2.0",
          "state": {
            "_model_module": "@jupyter-widgets/base",
            "_model_module_version": "1.2.0",
            "_model_name": "LayoutModel",
            "_view_count": null,
            "_view_module": "@jupyter-widgets/base",
            "_view_module_version": "1.2.0",
            "_view_name": "LayoutView",
            "align_content": null,
            "align_items": null,
            "align_self": null,
            "border": null,
            "bottom": null,
            "display": null,
            "flex": null,
            "flex_flow": null,
            "grid_area": null,
            "grid_auto_columns": null,
            "grid_auto_flow": null,
            "grid_auto_rows": null,
            "grid_column": null,
            "grid_gap": null,
            "grid_row": null,
            "grid_template_areas": null,
            "grid_template_columns": null,
            "grid_template_rows": null,
            "height": null,
            "justify_content": null,
            "justify_items": null,
            "left": null,
            "margin": null,
            "max_height": null,
            "max_width": null,
            "min_height": null,
            "min_width": null,
            "object_fit": null,
            "object_position": null,
            "order": null,
            "overflow": null,
            "overflow_x": null,
            "overflow_y": null,
            "padding": null,
            "right": null,
            "top": null,
            "visibility": null,
            "width": null
          }
        },
        "2230d7cba7764e748c11911cd96a395b": {
          "model_module": "@jupyter-widgets/controls",
          "model_name": "DescriptionStyleModel",
          "model_module_version": "1.5.0",
          "state": {
            "_model_module": "@jupyter-widgets/controls",
            "_model_module_version": "1.5.0",
            "_model_name": "DescriptionStyleModel",
            "_view_count": null,
            "_view_module": "@jupyter-widgets/base",
            "_view_module_version": "1.2.0",
            "_view_name": "StyleView",
            "description_width": ""
          }
        },
        "eb5f48691127469ba8610103e7d7beff": {
          "model_module": "@jupyter-widgets/base",
          "model_name": "LayoutModel",
          "model_module_version": "1.2.0",
          "state": {
            "_model_module": "@jupyter-widgets/base",
            "_model_module_version": "1.2.0",
            "_model_name": "LayoutModel",
            "_view_count": null,
            "_view_module": "@jupyter-widgets/base",
            "_view_module_version": "1.2.0",
            "_view_name": "LayoutView",
            "align_content": null,
            "align_items": null,
            "align_self": null,
            "border": null,
            "bottom": null,
            "display": null,
            "flex": null,
            "flex_flow": null,
            "grid_area": null,
            "grid_auto_columns": null,
            "grid_auto_flow": null,
            "grid_auto_rows": null,
            "grid_column": null,
            "grid_gap": null,
            "grid_row": null,
            "grid_template_areas": null,
            "grid_template_columns": null,
            "grid_template_rows": null,
            "height": null,
            "justify_content": null,
            "justify_items": null,
            "left": null,
            "margin": null,
            "max_height": null,
            "max_width": null,
            "min_height": null,
            "min_width": null,
            "object_fit": null,
            "object_position": null,
            "order": null,
            "overflow": null,
            "overflow_x": null,
            "overflow_y": null,
            "padding": null,
            "right": null,
            "top": null,
            "visibility": null,
            "width": null
          }
        },
        "69665e70229d461ea3b231c04d7f5393": {
          "model_module": "@jupyter-widgets/controls",
          "model_name": "ProgressStyleModel",
          "model_module_version": "1.5.0",
          "state": {
            "_model_module": "@jupyter-widgets/controls",
            "_model_module_version": "1.5.0",
            "_model_name": "ProgressStyleModel",
            "_view_count": null,
            "_view_module": "@jupyter-widgets/base",
            "_view_module_version": "1.2.0",
            "_view_name": "StyleView",
            "bar_color": null,
            "description_width": ""
          }
        },
        "f19f4907b1664f3ba25592dac7c71d46": {
          "model_module": "@jupyter-widgets/base",
          "model_name": "LayoutModel",
          "model_module_version": "1.2.0",
          "state": {
            "_model_module": "@jupyter-widgets/base",
            "_model_module_version": "1.2.0",
            "_model_name": "LayoutModel",
            "_view_count": null,
            "_view_module": "@jupyter-widgets/base",
            "_view_module_version": "1.2.0",
            "_view_name": "LayoutView",
            "align_content": null,
            "align_items": null,
            "align_self": null,
            "border": null,
            "bottom": null,
            "display": null,
            "flex": null,
            "flex_flow": null,
            "grid_area": null,
            "grid_auto_columns": null,
            "grid_auto_flow": null,
            "grid_auto_rows": null,
            "grid_column": null,
            "grid_gap": null,
            "grid_row": null,
            "grid_template_areas": null,
            "grid_template_columns": null,
            "grid_template_rows": null,
            "height": null,
            "justify_content": null,
            "justify_items": null,
            "left": null,
            "margin": null,
            "max_height": null,
            "max_width": null,
            "min_height": null,
            "min_width": null,
            "object_fit": null,
            "object_position": null,
            "order": null,
            "overflow": null,
            "overflow_x": null,
            "overflow_y": null,
            "padding": null,
            "right": null,
            "top": null,
            "visibility": null,
            "width": null
          }
        },
        "27e69b31cffc49ea9a1786032aed9927": {
          "model_module": "@jupyter-widgets/controls",
          "model_name": "DescriptionStyleModel",
          "model_module_version": "1.5.0",
          "state": {
            "_model_module": "@jupyter-widgets/controls",
            "_model_module_version": "1.5.0",
            "_model_name": "DescriptionStyleModel",
            "_view_count": null,
            "_view_module": "@jupyter-widgets/base",
            "_view_module_version": "1.2.0",
            "_view_name": "StyleView",
            "description_width": ""
          }
        },
        "707b9299ab0a4cd084e401b01a8bf789": {
          "model_module": "@jupyter-widgets/controls",
          "model_name": "HBoxModel",
          "model_module_version": "1.5.0",
          "state": {
            "_dom_classes": [],
            "_model_module": "@jupyter-widgets/controls",
            "_model_module_version": "1.5.0",
            "_model_name": "HBoxModel",
            "_view_count": null,
            "_view_module": "@jupyter-widgets/controls",
            "_view_module_version": "1.5.0",
            "_view_name": "HBoxView",
            "box_style": "",
            "children": [
              "IPY_MODEL_c6766e72ae0947af841ff0f99e4c0466",
              "IPY_MODEL_a029325639be416483c0cab9af42726c",
              "IPY_MODEL_f5786b5d890d40408135ad84773299ce"
            ],
            "layout": "IPY_MODEL_bce71d16bf79422fa3910c5ddd4a2c4e"
          }
        },
        "c6766e72ae0947af841ff0f99e4c0466": {
          "model_module": "@jupyter-widgets/controls",
          "model_name": "HTMLModel",
          "model_module_version": "1.5.0",
          "state": {
            "_dom_classes": [],
            "_model_module": "@jupyter-widgets/controls",
            "_model_module_version": "1.5.0",
            "_model_name": "HTMLModel",
            "_view_count": null,
            "_view_module": "@jupyter-widgets/controls",
            "_view_module_version": "1.5.0",
            "_view_name": "HTMLView",
            "description": "",
            "description_tooltip": null,
            "layout": "IPY_MODEL_c5d83b43951440ba8603404a2c71a769",
            "placeholder": "​",
            "style": "IPY_MODEL_cf7d166acc95471ab90f5f770153c6da",
            "value": "config.json: 100%"
          }
        },
        "a029325639be416483c0cab9af42726c": {
          "model_module": "@jupyter-widgets/controls",
          "model_name": "FloatProgressModel",
          "model_module_version": "1.5.0",
          "state": {
            "_dom_classes": [],
            "_model_module": "@jupyter-widgets/controls",
            "_model_module_version": "1.5.0",
            "_model_name": "FloatProgressModel",
            "_view_count": null,
            "_view_module": "@jupyter-widgets/controls",
            "_view_module_version": "1.5.0",
            "_view_name": "ProgressView",
            "bar_style": "success",
            "description": "",
            "description_tooltip": null,
            "layout": "IPY_MODEL_8cb54b7caaac498f80b9d0fb45cfc934",
            "max": 570,
            "min": 0,
            "orientation": "horizontal",
            "style": "IPY_MODEL_3ecd5521bbbd4992bcecad845bb2bc82",
            "value": 570
          }
        },
        "f5786b5d890d40408135ad84773299ce": {
          "model_module": "@jupyter-widgets/controls",
          "model_name": "HTMLModel",
          "model_module_version": "1.5.0",
          "state": {
            "_dom_classes": [],
            "_model_module": "@jupyter-widgets/controls",
            "_model_module_version": "1.5.0",
            "_model_name": "HTMLModel",
            "_view_count": null,
            "_view_module": "@jupyter-widgets/controls",
            "_view_module_version": "1.5.0",
            "_view_name": "HTMLView",
            "description": "",
            "description_tooltip": null,
            "layout": "IPY_MODEL_fecf47c7f0214fac88aa3d43e59bb16e",
            "placeholder": "​",
            "style": "IPY_MODEL_7187362817314dbbaf2263b92c2e00c9",
            "value": " 570/570 [00:00&lt;00:00, 41.8kB/s]"
          }
        },
        "bce71d16bf79422fa3910c5ddd4a2c4e": {
          "model_module": "@jupyter-widgets/base",
          "model_name": "LayoutModel",
          "model_module_version": "1.2.0",
          "state": {
            "_model_module": "@jupyter-widgets/base",
            "_model_module_version": "1.2.0",
            "_model_name": "LayoutModel",
            "_view_count": null,
            "_view_module": "@jupyter-widgets/base",
            "_view_module_version": "1.2.0",
            "_view_name": "LayoutView",
            "align_content": null,
            "align_items": null,
            "align_self": null,
            "border": null,
            "bottom": null,
            "display": null,
            "flex": null,
            "flex_flow": null,
            "grid_area": null,
            "grid_auto_columns": null,
            "grid_auto_flow": null,
            "grid_auto_rows": null,
            "grid_column": null,
            "grid_gap": null,
            "grid_row": null,
            "grid_template_areas": null,
            "grid_template_columns": null,
            "grid_template_rows": null,
            "height": null,
            "justify_content": null,
            "justify_items": null,
            "left": null,
            "margin": null,
            "max_height": null,
            "max_width": null,
            "min_height": null,
            "min_width": null,
            "object_fit": null,
            "object_position": null,
            "order": null,
            "overflow": null,
            "overflow_x": null,
            "overflow_y": null,
            "padding": null,
            "right": null,
            "top": null,
            "visibility": null,
            "width": null
          }
        },
        "c5d83b43951440ba8603404a2c71a769": {
          "model_module": "@jupyter-widgets/base",
          "model_name": "LayoutModel",
          "model_module_version": "1.2.0",
          "state": {
            "_model_module": "@jupyter-widgets/base",
            "_model_module_version": "1.2.0",
            "_model_name": "LayoutModel",
            "_view_count": null,
            "_view_module": "@jupyter-widgets/base",
            "_view_module_version": "1.2.0",
            "_view_name": "LayoutView",
            "align_content": null,
            "align_items": null,
            "align_self": null,
            "border": null,
            "bottom": null,
            "display": null,
            "flex": null,
            "flex_flow": null,
            "grid_area": null,
            "grid_auto_columns": null,
            "grid_auto_flow": null,
            "grid_auto_rows": null,
            "grid_column": null,
            "grid_gap": null,
            "grid_row": null,
            "grid_template_areas": null,
            "grid_template_columns": null,
            "grid_template_rows": null,
            "height": null,
            "justify_content": null,
            "justify_items": null,
            "left": null,
            "margin": null,
            "max_height": null,
            "max_width": null,
            "min_height": null,
            "min_width": null,
            "object_fit": null,
            "object_position": null,
            "order": null,
            "overflow": null,
            "overflow_x": null,
            "overflow_y": null,
            "padding": null,
            "right": null,
            "top": null,
            "visibility": null,
            "width": null
          }
        },
        "cf7d166acc95471ab90f5f770153c6da": {
          "model_module": "@jupyter-widgets/controls",
          "model_name": "DescriptionStyleModel",
          "model_module_version": "1.5.0",
          "state": {
            "_model_module": "@jupyter-widgets/controls",
            "_model_module_version": "1.5.0",
            "_model_name": "DescriptionStyleModel",
            "_view_count": null,
            "_view_module": "@jupyter-widgets/base",
            "_view_module_version": "1.2.0",
            "_view_name": "StyleView",
            "description_width": ""
          }
        },
        "8cb54b7caaac498f80b9d0fb45cfc934": {
          "model_module": "@jupyter-widgets/base",
          "model_name": "LayoutModel",
          "model_module_version": "1.2.0",
          "state": {
            "_model_module": "@jupyter-widgets/base",
            "_model_module_version": "1.2.0",
            "_model_name": "LayoutModel",
            "_view_count": null,
            "_view_module": "@jupyter-widgets/base",
            "_view_module_version": "1.2.0",
            "_view_name": "LayoutView",
            "align_content": null,
            "align_items": null,
            "align_self": null,
            "border": null,
            "bottom": null,
            "display": null,
            "flex": null,
            "flex_flow": null,
            "grid_area": null,
            "grid_auto_columns": null,
            "grid_auto_flow": null,
            "grid_auto_rows": null,
            "grid_column": null,
            "grid_gap": null,
            "grid_row": null,
            "grid_template_areas": null,
            "grid_template_columns": null,
            "grid_template_rows": null,
            "height": null,
            "justify_content": null,
            "justify_items": null,
            "left": null,
            "margin": null,
            "max_height": null,
            "max_width": null,
            "min_height": null,
            "min_width": null,
            "object_fit": null,
            "object_position": null,
            "order": null,
            "overflow": null,
            "overflow_x": null,
            "overflow_y": null,
            "padding": null,
            "right": null,
            "top": null,
            "visibility": null,
            "width": null
          }
        },
        "3ecd5521bbbd4992bcecad845bb2bc82": {
          "model_module": "@jupyter-widgets/controls",
          "model_name": "ProgressStyleModel",
          "model_module_version": "1.5.0",
          "state": {
            "_model_module": "@jupyter-widgets/controls",
            "_model_module_version": "1.5.0",
            "_model_name": "ProgressStyleModel",
            "_view_count": null,
            "_view_module": "@jupyter-widgets/base",
            "_view_module_version": "1.2.0",
            "_view_name": "StyleView",
            "bar_color": null,
            "description_width": ""
          }
        },
        "fecf47c7f0214fac88aa3d43e59bb16e": {
          "model_module": "@jupyter-widgets/base",
          "model_name": "LayoutModel",
          "model_module_version": "1.2.0",
          "state": {
            "_model_module": "@jupyter-widgets/base",
            "_model_module_version": "1.2.0",
            "_model_name": "LayoutModel",
            "_view_count": null,
            "_view_module": "@jupyter-widgets/base",
            "_view_module_version": "1.2.0",
            "_view_name": "LayoutView",
            "align_content": null,
            "align_items": null,
            "align_self": null,
            "border": null,
            "bottom": null,
            "display": null,
            "flex": null,
            "flex_flow": null,
            "grid_area": null,
            "grid_auto_columns": null,
            "grid_auto_flow": null,
            "grid_auto_rows": null,
            "grid_column": null,
            "grid_gap": null,
            "grid_row": null,
            "grid_template_areas": null,
            "grid_template_columns": null,
            "grid_template_rows": null,
            "height": null,
            "justify_content": null,
            "justify_items": null,
            "left": null,
            "margin": null,
            "max_height": null,
            "max_width": null,
            "min_height": null,
            "min_width": null,
            "object_fit": null,
            "object_position": null,
            "order": null,
            "overflow": null,
            "overflow_x": null,
            "overflow_y": null,
            "padding": null,
            "right": null,
            "top": null,
            "visibility": null,
            "width": null
          }
        },
        "7187362817314dbbaf2263b92c2e00c9": {
          "model_module": "@jupyter-widgets/controls",
          "model_name": "DescriptionStyleModel",
          "model_module_version": "1.5.0",
          "state": {
            "_model_module": "@jupyter-widgets/controls",
            "_model_module_version": "1.5.0",
            "_model_name": "DescriptionStyleModel",
            "_view_count": null,
            "_view_module": "@jupyter-widgets/base",
            "_view_module_version": "1.2.0",
            "_view_name": "StyleView",
            "description_width": ""
          }
        },
        "b225ba86cdb74d2c95b504b54dedefe4": {
          "model_module": "@jupyter-widgets/controls",
          "model_name": "HBoxModel",
          "model_module_version": "1.5.0",
          "state": {
            "_dom_classes": [],
            "_model_module": "@jupyter-widgets/controls",
            "_model_module_version": "1.5.0",
            "_model_name": "HBoxModel",
            "_view_count": null,
            "_view_module": "@jupyter-widgets/controls",
            "_view_module_version": "1.5.0",
            "_view_name": "HBoxView",
            "box_style": "",
            "children": [
              "IPY_MODEL_7cbc9a9f791f49b999bcf60b4bae211e",
              "IPY_MODEL_f4a885b6ddd0442e97f4b8d1ecd5885b",
              "IPY_MODEL_9da227adabd64d1e84338f888564aa30"
            ],
            "layout": "IPY_MODEL_65fa04045b6b4c9b99bee0ead75941d7"
          }
        },
        "7cbc9a9f791f49b999bcf60b4bae211e": {
          "model_module": "@jupyter-widgets/controls",
          "model_name": "HTMLModel",
          "model_module_version": "1.5.0",
          "state": {
            "_dom_classes": [],
            "_model_module": "@jupyter-widgets/controls",
            "_model_module_version": "1.5.0",
            "_model_name": "HTMLModel",
            "_view_count": null,
            "_view_module": "@jupyter-widgets/controls",
            "_view_module_version": "1.5.0",
            "_view_name": "HTMLView",
            "description": "",
            "description_tooltip": null,
            "layout": "IPY_MODEL_8cc4420bf6434529b7df28f267a0d0a7",
            "placeholder": "​",
            "style": "IPY_MODEL_b9dc29a6c35e4612a28afc53377e76e6",
            "value": "model.safetensors: 100%"
          }
        },
        "f4a885b6ddd0442e97f4b8d1ecd5885b": {
          "model_module": "@jupyter-widgets/controls",
          "model_name": "FloatProgressModel",
          "model_module_version": "1.5.0",
          "state": {
            "_dom_classes": [],
            "_model_module": "@jupyter-widgets/controls",
            "_model_module_version": "1.5.0",
            "_model_name": "FloatProgressModel",
            "_view_count": null,
            "_view_module": "@jupyter-widgets/controls",
            "_view_module_version": "1.5.0",
            "_view_name": "ProgressView",
            "bar_style": "success",
            "description": "",
            "description_tooltip": null,
            "layout": "IPY_MODEL_cc2ce090491e4d148a24f3ea89f5bbc4",
            "max": 440449768,
            "min": 0,
            "orientation": "horizontal",
            "style": "IPY_MODEL_5d1d10731db444c58d6996905dbff7b6",
            "value": 440449768
          }
        },
        "9da227adabd64d1e84338f888564aa30": {
          "model_module": "@jupyter-widgets/controls",
          "model_name": "HTMLModel",
          "model_module_version": "1.5.0",
          "state": {
            "_dom_classes": [],
            "_model_module": "@jupyter-widgets/controls",
            "_model_module_version": "1.5.0",
            "_model_name": "HTMLModel",
            "_view_count": null,
            "_view_module": "@jupyter-widgets/controls",
            "_view_module_version": "1.5.0",
            "_view_name": "HTMLView",
            "description": "",
            "description_tooltip": null,
            "layout": "IPY_MODEL_a287379b3d5a4bc4b4cd54397e51148b",
            "placeholder": "​",
            "style": "IPY_MODEL_3eb2f1777e9646fb8b3d932e723ec3c9",
            "value": " 440M/440M [00:01&lt;00:00, 201MB/s]"
          }
        },
        "65fa04045b6b4c9b99bee0ead75941d7": {
          "model_module": "@jupyter-widgets/base",
          "model_name": "LayoutModel",
          "model_module_version": "1.2.0",
          "state": {
            "_model_module": "@jupyter-widgets/base",
            "_model_module_version": "1.2.0",
            "_model_name": "LayoutModel",
            "_view_count": null,
            "_view_module": "@jupyter-widgets/base",
            "_view_module_version": "1.2.0",
            "_view_name": "LayoutView",
            "align_content": null,
            "align_items": null,
            "align_self": null,
            "border": null,
            "bottom": null,
            "display": null,
            "flex": null,
            "flex_flow": null,
            "grid_area": null,
            "grid_auto_columns": null,
            "grid_auto_flow": null,
            "grid_auto_rows": null,
            "grid_column": null,
            "grid_gap": null,
            "grid_row": null,
            "grid_template_areas": null,
            "grid_template_columns": null,
            "grid_template_rows": null,
            "height": null,
            "justify_content": null,
            "justify_items": null,
            "left": null,
            "margin": null,
            "max_height": null,
            "max_width": null,
            "min_height": null,
            "min_width": null,
            "object_fit": null,
            "object_position": null,
            "order": null,
            "overflow": null,
            "overflow_x": null,
            "overflow_y": null,
            "padding": null,
            "right": null,
            "top": null,
            "visibility": null,
            "width": null
          }
        },
        "8cc4420bf6434529b7df28f267a0d0a7": {
          "model_module": "@jupyter-widgets/base",
          "model_name": "LayoutModel",
          "model_module_version": "1.2.0",
          "state": {
            "_model_module": "@jupyter-widgets/base",
            "_model_module_version": "1.2.0",
            "_model_name": "LayoutModel",
            "_view_count": null,
            "_view_module": "@jupyter-widgets/base",
            "_view_module_version": "1.2.0",
            "_view_name": "LayoutView",
            "align_content": null,
            "align_items": null,
            "align_self": null,
            "border": null,
            "bottom": null,
            "display": null,
            "flex": null,
            "flex_flow": null,
            "grid_area": null,
            "grid_auto_columns": null,
            "grid_auto_flow": null,
            "grid_auto_rows": null,
            "grid_column": null,
            "grid_gap": null,
            "grid_row": null,
            "grid_template_areas": null,
            "grid_template_columns": null,
            "grid_template_rows": null,
            "height": null,
            "justify_content": null,
            "justify_items": null,
            "left": null,
            "margin": null,
            "max_height": null,
            "max_width": null,
            "min_height": null,
            "min_width": null,
            "object_fit": null,
            "object_position": null,
            "order": null,
            "overflow": null,
            "overflow_x": null,
            "overflow_y": null,
            "padding": null,
            "right": null,
            "top": null,
            "visibility": null,
            "width": null
          }
        },
        "b9dc29a6c35e4612a28afc53377e76e6": {
          "model_module": "@jupyter-widgets/controls",
          "model_name": "DescriptionStyleModel",
          "model_module_version": "1.5.0",
          "state": {
            "_model_module": "@jupyter-widgets/controls",
            "_model_module_version": "1.5.0",
            "_model_name": "DescriptionStyleModel",
            "_view_count": null,
            "_view_module": "@jupyter-widgets/base",
            "_view_module_version": "1.2.0",
            "_view_name": "StyleView",
            "description_width": ""
          }
        },
        "cc2ce090491e4d148a24f3ea89f5bbc4": {
          "model_module": "@jupyter-widgets/base",
          "model_name": "LayoutModel",
          "model_module_version": "1.2.0",
          "state": {
            "_model_module": "@jupyter-widgets/base",
            "_model_module_version": "1.2.0",
            "_model_name": "LayoutModel",
            "_view_count": null,
            "_view_module": "@jupyter-widgets/base",
            "_view_module_version": "1.2.0",
            "_view_name": "LayoutView",
            "align_content": null,
            "align_items": null,
            "align_self": null,
            "border": null,
            "bottom": null,
            "display": null,
            "flex": null,
            "flex_flow": null,
            "grid_area": null,
            "grid_auto_columns": null,
            "grid_auto_flow": null,
            "grid_auto_rows": null,
            "grid_column": null,
            "grid_gap": null,
            "grid_row": null,
            "grid_template_areas": null,
            "grid_template_columns": null,
            "grid_template_rows": null,
            "height": null,
            "justify_content": null,
            "justify_items": null,
            "left": null,
            "margin": null,
            "max_height": null,
            "max_width": null,
            "min_height": null,
            "min_width": null,
            "object_fit": null,
            "object_position": null,
            "order": null,
            "overflow": null,
            "overflow_x": null,
            "overflow_y": null,
            "padding": null,
            "right": null,
            "top": null,
            "visibility": null,
            "width": null
          }
        },
        "5d1d10731db444c58d6996905dbff7b6": {
          "model_module": "@jupyter-widgets/controls",
          "model_name": "ProgressStyleModel",
          "model_module_version": "1.5.0",
          "state": {
            "_model_module": "@jupyter-widgets/controls",
            "_model_module_version": "1.5.0",
            "_model_name": "ProgressStyleModel",
            "_view_count": null,
            "_view_module": "@jupyter-widgets/base",
            "_view_module_version": "1.2.0",
            "_view_name": "StyleView",
            "bar_color": null,
            "description_width": ""
          }
        },
        "a287379b3d5a4bc4b4cd54397e51148b": {
          "model_module": "@jupyter-widgets/base",
          "model_name": "LayoutModel",
          "model_module_version": "1.2.0",
          "state": {
            "_model_module": "@jupyter-widgets/base",
            "_model_module_version": "1.2.0",
            "_model_name": "LayoutModel",
            "_view_count": null,
            "_view_module": "@jupyter-widgets/base",
            "_view_module_version": "1.2.0",
            "_view_name": "LayoutView",
            "align_content": null,
            "align_items": null,
            "align_self": null,
            "border": null,
            "bottom": null,
            "display": null,
            "flex": null,
            "flex_flow": null,
            "grid_area": null,
            "grid_auto_columns": null,
            "grid_auto_flow": null,
            "grid_auto_rows": null,
            "grid_column": null,
            "grid_gap": null,
            "grid_row": null,
            "grid_template_areas": null,
            "grid_template_columns": null,
            "grid_template_rows": null,
            "height": null,
            "justify_content": null,
            "justify_items": null,
            "left": null,
            "margin": null,
            "max_height": null,
            "max_width": null,
            "min_height": null,
            "min_width": null,
            "object_fit": null,
            "object_position": null,
            "order": null,
            "overflow": null,
            "overflow_x": null,
            "overflow_y": null,
            "padding": null,
            "right": null,
            "top": null,
            "visibility": null,
            "width": null
          }
        },
        "3eb2f1777e9646fb8b3d932e723ec3c9": {
          "model_module": "@jupyter-widgets/controls",
          "model_name": "DescriptionStyleModel",
          "model_module_version": "1.5.0",
          "state": {
            "_model_module": "@jupyter-widgets/controls",
            "_model_module_version": "1.5.0",
            "_model_name": "DescriptionStyleModel",
            "_view_count": null,
            "_view_module": "@jupyter-widgets/base",
            "_view_module_version": "1.2.0",
            "_view_name": "StyleView",
            "description_width": ""
          }
        }
      }
    }
  },
  "nbformat": 4,
  "nbformat_minor": 5
}